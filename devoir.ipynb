{
 "cells": [
  {
   "attachments": {},
   "cell_type": "markdown",
   "id": "6b930905-31e0-4da8-a749-bf1d046c05b7",
   "metadata": {},
   "source": [
    "\n",
    "<center> <h1> MTH2302B- PROBABILITÉS ET STATISTIQUE </h1></center>\n",
    "<center> <h2> <strong>Devoir- Hiver 2025 </strong></h2></center>\n"
   ]
  },
  {
   "cell_type": "markdown",
   "id": "739c1da2-e69c-4e94-b2ad-1d2a7ede2be9",
   "metadata": {},
   "source": [
    "**CONTEXTE** <br>\n",
    "Ce devoir est une étude de cas qui consiste en une analyse des données recueillies au cours d’une expérience visant l’amélioration d’un procédé d’assemblage par rivetage des panneaux du fuselage d’un modèle d’avion. \n",
    "\n",
    "La coque ainsi que les ailes d’un avion sont constituées de différents panneaux qui tiennent par des rivets. La pose de ces rivets exige le perçage d’un grand nombre de trous dont la qualité (position, précision, etc.) est primordiale pour l’obtention d’un bon assemblage. Le but de l’étude est de : (1) analyser et évaluer l’importance de l’effet des différentes facteurs variables sur la qualité du perçage; (2) déterminer un modèle mathématique convenable permettant d’évaluer la qualité du perçage en fonction des variables pertinentes; et (3) déterminer (si possible) les valeurs optimales de ces variables pour un perçage de bonne qualité. La description des variables de l’étude est donnée ci-dessous. \n",
    "\n",
    "**La mesure de la qualité du procédé de perçage**. La qualité du procédé de perçage est mesurée par celle des trous obtenus. Dans le cadre de cette expérience (voir le Tableau 1), la variable utilisée est l’*Indice de rugosité* (IR) qui est une mesure de la qualité du fini de la surface d’un trou; elle est obtenue à l’aide d’une sonde. Plus l’indice est petit, meilleure est la qualité du perçage. \n",
    "\n",
    "**Les variables susceptibles d’affecter la qualité du perçage**. La qualité du procédé de perçage peut dépendre de plusieurs facteurs. Dans cette étude, après un certain nombre d’analyses, quelques variables furent retenues par les ingénieurs responsables du procédé. Chaque trou est obtenu en utilisant une perceuse dont la vitesse de rotation ainsi que l’avance sont contrôlables. Le perçage a lieu sous un jet d’air comprimé dont la température est contrôlable. Ainsi, les quatre variables retenues furent : la *vitesse* de rotation de la perceuse, l’*avance* du foret de la perceuse, la *température* de l’air injecté et le *type de matériau*.\n",
    "\n",
    "**Les données**. Les données à analyser ont été obtenues à l’aide d’une expérience planifiée. L’expérience ne pouvant pas être menée sur une véritable ligne d’assemblage, elle fut réalisée avec des spécimens de pièces métalliques appelés coupons. Certains coupons étaient constitués d’un type de matériau (codé 0), et les autres d’un autre type de matériau (codé 1). Les essais furent réalisés en perçant des trous dans les coupons et ce, selon diverses combinaisons de valeurs des facteurs. L’indice (IR) des trous obtenus était mesuré dans chaque cas. Le Tableau 1 ci-dessous présente les différentes variables de l’étude (numéro de colonne dans le fichier, symbole, description, etc.) telles qu’elles apparaissent dans votre ensemble de données personnalisées (constitué de 220 observations sur 5 variables).\n",
    "\n",
    "<center><img title=\"Tableau des données\" alt=\"data_table\" src=\"img/tableau1.png\"></center>\n",
    "\n",
    "Le but est d’analyser les résultats issus de cette expérience afin d’évaluer : l’effet de chacun des facteurs sur la qualité des trous obtenus et en retenir les plus influents; la façon par laquelle ces facteurs interagissent et quelle combinaison des valeurs de facteurs donne lieu à un procédé de perçage de qualité optimale."
   ]
  },
  {
   "cell_type": "markdown",
   "id": "6be444eb-092b-4970-aa6c-68b87cb50598",
   "metadata": {},
   "source": [
    "## Importation des données"
   ]
  },
  {
   "cell_type": "code",
   "execution_count": 20,
   "id": "3241ff00-9892-4af9-9e1e-a95de0e61b9c",
   "metadata": {
    "vscode": {
     "languageId": "r"
    }
   },
   "outputs": [
    {
     "data": {
      "text/html": [
       "<table>\n",
       "<thead><tr><th scope=col>M</th><th scope=col>V</th><th scope=col>A</th><th scope=col>T</th><th scope=col>IR</th></tr></thead>\n",
       "<tbody>\n",
       "\t<tr><td>0   </td><td> 6  </td><td> 9  </td><td>39.4</td><td> 6.9</td></tr>\n",
       "\t<tr><td>0   </td><td> 6  </td><td> 9  </td><td>41.3</td><td> 6.2</td></tr>\n",
       "\t<tr><td>0   </td><td>15  </td><td>12  </td><td>47.3</td><td>25.3</td></tr>\n",
       "\t<tr><td>0   </td><td>10  </td><td> 6  </td><td>35.7</td><td> 2.5</td></tr>\n",
       "\t<tr><td>0   </td><td> 6  </td><td>12  </td><td>52.7</td><td>38.4</td></tr>\n",
       "\t<tr><td>0   </td><td> 6  </td><td>12  </td><td>47.9</td><td>28.0</td></tr>\n",
       "\t<tr><td>0   </td><td> 6  </td><td> 9  </td><td>43.2</td><td> 8.0</td></tr>\n",
       "\t<tr><td>0   </td><td> 6  </td><td> 9  </td><td>38.3</td><td> 6.1</td></tr>\n",
       "\t<tr><td>0   </td><td>10  </td><td> 6  </td><td>36.9</td><td> 3.2</td></tr>\n",
       "\t<tr><td>0   </td><td>10  </td><td> 6  </td><td>38.1</td><td> 3.4</td></tr>\n",
       "\t<tr><td>0   </td><td>15  </td><td>12  </td><td>47.3</td><td>26.8</td></tr>\n",
       "\t<tr><td>0   </td><td>15  </td><td>12  </td><td>44.6</td><td>22.2</td></tr>\n",
       "\t<tr><td>0   </td><td>10  </td><td> 9  </td><td>40.6</td><td> 4.8</td></tr>\n",
       "\t<tr><td>0   </td><td>10  </td><td> 9  </td><td>32.6</td><td> 3.5</td></tr>\n",
       "\t<tr><td>0   </td><td>10  </td><td> 9  </td><td>39.5</td><td> 5.3</td></tr>\n",
       "\t<tr><td>0   </td><td>10  </td><td> 9  </td><td>38.5</td><td> 5.9</td></tr>\n",
       "\t<tr><td>1   </td><td>10  </td><td>12  </td><td>46.6</td><td>18.4</td></tr>\n",
       "\t<tr><td>1   </td><td>10  </td><td>12  </td><td>45.3</td><td>17.6</td></tr>\n",
       "\t<tr><td>1   </td><td>15  </td><td> 9  </td><td>43.4</td><td> 8.1</td></tr>\n",
       "\t<tr><td>1   </td><td>15  </td><td> 9  </td><td>38.0</td><td> 8.4</td></tr>\n",
       "\t<tr><td>1   </td><td>15  </td><td> 6  </td><td>39.3</td><td> 3.6</td></tr>\n",
       "\t<tr><td>1   </td><td>15  </td><td> 6  </td><td>41.1</td><td> 5.1</td></tr>\n",
       "\t<tr><td>1   </td><td> 6  </td><td> 6  </td><td>36.8</td><td> 3.9</td></tr>\n",
       "\t<tr><td>1   </td><td> 6  </td><td> 6  </td><td>33.2</td><td> 4.5</td></tr>\n",
       "\t<tr><td>1   </td><td>15  </td><td> 6  </td><td>39.4</td><td> 6.2</td></tr>\n",
       "\t<tr><td>1   </td><td>15  </td><td> 6  </td><td>36.3</td><td> 4.5</td></tr>\n",
       "\t<tr><td>1   </td><td>10  </td><td>12  </td><td>46.2</td><td>18.5</td></tr>\n",
       "\t<tr><td>1   </td><td>10  </td><td>12  </td><td>44.6</td><td>16.5</td></tr>\n",
       "\t<tr><td>1   </td><td> 6  </td><td>12  </td><td>48.9</td><td>26.0</td></tr>\n",
       "\t<tr><td>1   </td><td> 6  </td><td>12  </td><td>47.8</td><td>24.9</td></tr>\n",
       "\t<tr><td>...</td><td>...</td><td>...</td><td>...</td><td>...</td></tr>\n",
       "\t<tr><td>1   </td><td> 6  </td><td> 6  </td><td>38.8</td><td> 6.9</td></tr>\n",
       "\t<tr><td>1   </td><td>15  </td><td>12  </td><td>42.7</td><td> 9.1</td></tr>\n",
       "\t<tr><td>1   </td><td>15  </td><td>12  </td><td>39.3</td><td> 7.4</td></tr>\n",
       "\t<tr><td>1   </td><td> 6  </td><td> 6  </td><td>42.1</td><td>13.4</td></tr>\n",
       "\t<tr><td>1   </td><td>10  </td><td> 9  </td><td>37.3</td><td> 9.3</td></tr>\n",
       "\t<tr><td>1   </td><td>10  </td><td> 9  </td><td>38.9</td><td> 8.3</td></tr>\n",
       "\t<tr><td>1   </td><td>15  </td><td>12  </td><td>39.2</td><td>11.1</td></tr>\n",
       "\t<tr><td>1   </td><td> 6  </td><td> 6  </td><td>43.3</td><td> 8.3</td></tr>\n",
       "\t<tr><td>1   </td><td>15  </td><td>12  </td><td>42.5</td><td>11.4</td></tr>\n",
       "\t<tr><td>1   </td><td>15  </td><td>12  </td><td>38.1</td><td> 4.3</td></tr>\n",
       "\t<tr><td>1   </td><td>15  </td><td>12  </td><td>41.2</td><td>10.6</td></tr>\n",
       "\t<tr><td>1   </td><td> 6  </td><td> 6  </td><td>36.2</td><td> 9.8</td></tr>\n",
       "\t<tr><td>1   </td><td>15  </td><td>12  </td><td>38.0</td><td> 5.5</td></tr>\n",
       "\t<tr><td>1   </td><td>15  </td><td>12  </td><td>36.8</td><td> 6.6</td></tr>\n",
       "\t<tr><td>1   </td><td>15  </td><td>12  </td><td>41.5</td><td>10.3</td></tr>\n",
       "\t<tr><td>1   </td><td>10  </td><td> 9  </td><td>44.2</td><td>11.0</td></tr>\n",
       "\t<tr><td>1   </td><td> 6  </td><td> 6  </td><td>41.7</td><td>11.6</td></tr>\n",
       "\t<tr><td>1   </td><td>15  </td><td>12  </td><td>41.8</td><td> 8.4</td></tr>\n",
       "\t<tr><td>1   </td><td>15  </td><td>12  </td><td>42.2</td><td>13.9</td></tr>\n",
       "\t<tr><td>1   </td><td>10  </td><td> 9  </td><td>42.6</td><td>12.9</td></tr>\n",
       "\t<tr><td>1   </td><td>15  </td><td>12  </td><td>44.2</td><td> 9.7</td></tr>\n",
       "\t<tr><td>1   </td><td> 6  </td><td> 6  </td><td>42.7</td><td>11.2</td></tr>\n",
       "\t<tr><td>1   </td><td> 6  </td><td> 6  </td><td>45.4</td><td>14.6</td></tr>\n",
       "\t<tr><td>1   </td><td>15  </td><td>12  </td><td>40.5</td><td>11.1</td></tr>\n",
       "\t<tr><td>1   </td><td>15  </td><td>12  </td><td>41.2</td><td> 6.6</td></tr>\n",
       "\t<tr><td>1   </td><td>15  </td><td>12  </td><td>43.5</td><td> 9.4</td></tr>\n",
       "\t<tr><td>1   </td><td> 6  </td><td> 6  </td><td>42.5</td><td> 9.2</td></tr>\n",
       "\t<tr><td>1   </td><td> 6  </td><td> 6  </td><td>40.3</td><td> 8.8</td></tr>\n",
       "\t<tr><td>1   </td><td>10  </td><td> 9  </td><td>43.2</td><td>10.1</td></tr>\n",
       "\t<tr><td>1   </td><td>15  </td><td>12  </td><td>40.3</td><td> 9.1</td></tr>\n",
       "</tbody>\n",
       "</table>\n"
      ],
      "text/latex": [
       "\\begin{tabular}{r|lllll}\n",
       " M & V & A & T & IR\\\\\n",
       "\\hline\n",
       "\t 0    &  6   &  9   & 39.4 &  6.9\\\\\n",
       "\t 0    &  6   &  9   & 41.3 &  6.2\\\\\n",
       "\t 0    & 15   & 12   & 47.3 & 25.3\\\\\n",
       "\t 0    & 10   &  6   & 35.7 &  2.5\\\\\n",
       "\t 0    &  6   & 12   & 52.7 & 38.4\\\\\n",
       "\t 0    &  6   & 12   & 47.9 & 28.0\\\\\n",
       "\t 0    &  6   &  9   & 43.2 &  8.0\\\\\n",
       "\t 0    &  6   &  9   & 38.3 &  6.1\\\\\n",
       "\t 0    & 10   &  6   & 36.9 &  3.2\\\\\n",
       "\t 0    & 10   &  6   & 38.1 &  3.4\\\\\n",
       "\t 0    & 15   & 12   & 47.3 & 26.8\\\\\n",
       "\t 0    & 15   & 12   & 44.6 & 22.2\\\\\n",
       "\t 0    & 10   &  9   & 40.6 &  4.8\\\\\n",
       "\t 0    & 10   &  9   & 32.6 &  3.5\\\\\n",
       "\t 0    & 10   &  9   & 39.5 &  5.3\\\\\n",
       "\t 0    & 10   &  9   & 38.5 &  5.9\\\\\n",
       "\t 1    & 10   & 12   & 46.6 & 18.4\\\\\n",
       "\t 1    & 10   & 12   & 45.3 & 17.6\\\\\n",
       "\t 1    & 15   &  9   & 43.4 &  8.1\\\\\n",
       "\t 1    & 15   &  9   & 38.0 &  8.4\\\\\n",
       "\t 1    & 15   &  6   & 39.3 &  3.6\\\\\n",
       "\t 1    & 15   &  6   & 41.1 &  5.1\\\\\n",
       "\t 1    &  6   &  6   & 36.8 &  3.9\\\\\n",
       "\t 1    &  6   &  6   & 33.2 &  4.5\\\\\n",
       "\t 1    & 15   &  6   & 39.4 &  6.2\\\\\n",
       "\t 1    & 15   &  6   & 36.3 &  4.5\\\\\n",
       "\t 1    & 10   & 12   & 46.2 & 18.5\\\\\n",
       "\t 1    & 10   & 12   & 44.6 & 16.5\\\\\n",
       "\t 1    &  6   & 12   & 48.9 & 26.0\\\\\n",
       "\t 1    &  6   & 12   & 47.8 & 24.9\\\\\n",
       "\t ... & ... & ... & ... & ...\\\\\n",
       "\t 1    &  6   &  6   & 38.8 &  6.9\\\\\n",
       "\t 1    & 15   & 12   & 42.7 &  9.1\\\\\n",
       "\t 1    & 15   & 12   & 39.3 &  7.4\\\\\n",
       "\t 1    &  6   &  6   & 42.1 & 13.4\\\\\n",
       "\t 1    & 10   &  9   & 37.3 &  9.3\\\\\n",
       "\t 1    & 10   &  9   & 38.9 &  8.3\\\\\n",
       "\t 1    & 15   & 12   & 39.2 & 11.1\\\\\n",
       "\t 1    &  6   &  6   & 43.3 &  8.3\\\\\n",
       "\t 1    & 15   & 12   & 42.5 & 11.4\\\\\n",
       "\t 1    & 15   & 12   & 38.1 &  4.3\\\\\n",
       "\t 1    & 15   & 12   & 41.2 & 10.6\\\\\n",
       "\t 1    &  6   &  6   & 36.2 &  9.8\\\\\n",
       "\t 1    & 15   & 12   & 38.0 &  5.5\\\\\n",
       "\t 1    & 15   & 12   & 36.8 &  6.6\\\\\n",
       "\t 1    & 15   & 12   & 41.5 & 10.3\\\\\n",
       "\t 1    & 10   &  9   & 44.2 & 11.0\\\\\n",
       "\t 1    &  6   &  6   & 41.7 & 11.6\\\\\n",
       "\t 1    & 15   & 12   & 41.8 &  8.4\\\\\n",
       "\t 1    & 15   & 12   & 42.2 & 13.9\\\\\n",
       "\t 1    & 10   &  9   & 42.6 & 12.9\\\\\n",
       "\t 1    & 15   & 12   & 44.2 &  9.7\\\\\n",
       "\t 1    &  6   &  6   & 42.7 & 11.2\\\\\n",
       "\t 1    &  6   &  6   & 45.4 & 14.6\\\\\n",
       "\t 1    & 15   & 12   & 40.5 & 11.1\\\\\n",
       "\t 1    & 15   & 12   & 41.2 &  6.6\\\\\n",
       "\t 1    & 15   & 12   & 43.5 &  9.4\\\\\n",
       "\t 1    &  6   &  6   & 42.5 &  9.2\\\\\n",
       "\t 1    &  6   &  6   & 40.3 &  8.8\\\\\n",
       "\t 1    & 10   &  9   & 43.2 & 10.1\\\\\n",
       "\t 1    & 15   & 12   & 40.3 &  9.1\\\\\n",
       "\\end{tabular}\n"
      ],
      "text/markdown": [
       "\n",
       "| M | V | A | T | IR |\n",
       "|---|---|---|---|---|\n",
       "| 0    |  6   |  9   | 39.4 |  6.9 |\n",
       "| 0    |  6   |  9   | 41.3 |  6.2 |\n",
       "| 0    | 15   | 12   | 47.3 | 25.3 |\n",
       "| 0    | 10   |  6   | 35.7 |  2.5 |\n",
       "| 0    |  6   | 12   | 52.7 | 38.4 |\n",
       "| 0    |  6   | 12   | 47.9 | 28.0 |\n",
       "| 0    |  6   |  9   | 43.2 |  8.0 |\n",
       "| 0    |  6   |  9   | 38.3 |  6.1 |\n",
       "| 0    | 10   |  6   | 36.9 |  3.2 |\n",
       "| 0    | 10   |  6   | 38.1 |  3.4 |\n",
       "| 0    | 15   | 12   | 47.3 | 26.8 |\n",
       "| 0    | 15   | 12   | 44.6 | 22.2 |\n",
       "| 0    | 10   |  9   | 40.6 |  4.8 |\n",
       "| 0    | 10   |  9   | 32.6 |  3.5 |\n",
       "| 0    | 10   |  9   | 39.5 |  5.3 |\n",
       "| 0    | 10   |  9   | 38.5 |  5.9 |\n",
       "| 1    | 10   | 12   | 46.6 | 18.4 |\n",
       "| 1    | 10   | 12   | 45.3 | 17.6 |\n",
       "| 1    | 15   |  9   | 43.4 |  8.1 |\n",
       "| 1    | 15   |  9   | 38.0 |  8.4 |\n",
       "| 1    | 15   |  6   | 39.3 |  3.6 |\n",
       "| 1    | 15   |  6   | 41.1 |  5.1 |\n",
       "| 1    |  6   |  6   | 36.8 |  3.9 |\n",
       "| 1    |  6   |  6   | 33.2 |  4.5 |\n",
       "| 1    | 15   |  6   | 39.4 |  6.2 |\n",
       "| 1    | 15   |  6   | 36.3 |  4.5 |\n",
       "| 1    | 10   | 12   | 46.2 | 18.5 |\n",
       "| 1    | 10   | 12   | 44.6 | 16.5 |\n",
       "| 1    |  6   | 12   | 48.9 | 26.0 |\n",
       "| 1    |  6   | 12   | 47.8 | 24.9 |\n",
       "| ... | ... | ... | ... | ... |\n",
       "| 1    |  6   |  6   | 38.8 |  6.9 |\n",
       "| 1    | 15   | 12   | 42.7 |  9.1 |\n",
       "| 1    | 15   | 12   | 39.3 |  7.4 |\n",
       "| 1    |  6   |  6   | 42.1 | 13.4 |\n",
       "| 1    | 10   |  9   | 37.3 |  9.3 |\n",
       "| 1    | 10   |  9   | 38.9 |  8.3 |\n",
       "| 1    | 15   | 12   | 39.2 | 11.1 |\n",
       "| 1    |  6   |  6   | 43.3 |  8.3 |\n",
       "| 1    | 15   | 12   | 42.5 | 11.4 |\n",
       "| 1    | 15   | 12   | 38.1 |  4.3 |\n",
       "| 1    | 15   | 12   | 41.2 | 10.6 |\n",
       "| 1    |  6   |  6   | 36.2 |  9.8 |\n",
       "| 1    | 15   | 12   | 38.0 |  5.5 |\n",
       "| 1    | 15   | 12   | 36.8 |  6.6 |\n",
       "| 1    | 15   | 12   | 41.5 | 10.3 |\n",
       "| 1    | 10   |  9   | 44.2 | 11.0 |\n",
       "| 1    |  6   |  6   | 41.7 | 11.6 |\n",
       "| 1    | 15   | 12   | 41.8 |  8.4 |\n",
       "| 1    | 15   | 12   | 42.2 | 13.9 |\n",
       "| 1    | 10   |  9   | 42.6 | 12.9 |\n",
       "| 1    | 15   | 12   | 44.2 |  9.7 |\n",
       "| 1    |  6   |  6   | 42.7 | 11.2 |\n",
       "| 1    |  6   |  6   | 45.4 | 14.6 |\n",
       "| 1    | 15   | 12   | 40.5 | 11.1 |\n",
       "| 1    | 15   | 12   | 41.2 |  6.6 |\n",
       "| 1    | 15   | 12   | 43.5 |  9.4 |\n",
       "| 1    |  6   |  6   | 42.5 |  9.2 |\n",
       "| 1    |  6   |  6   | 40.3 |  8.8 |\n",
       "| 1    | 10   |  9   | 43.2 | 10.1 |\n",
       "| 1    | 15   | 12   | 40.3 |  9.1 |\n",
       "\n"
      ],
      "text/plain": [
       "    M   V   A   T    IR  \n",
       "1   0    6   9  39.4  6.9\n",
       "2   0    6   9  41.3  6.2\n",
       "3   0   15  12  47.3 25.3\n",
       "4   0   10   6  35.7  2.5\n",
       "5   0    6  12  52.7 38.4\n",
       "6   0    6  12  47.9 28.0\n",
       "7   0    6   9  43.2  8.0\n",
       "8   0    6   9  38.3  6.1\n",
       "9   0   10   6  36.9  3.2\n",
       "10  0   10   6  38.1  3.4\n",
       "11  0   15  12  47.3 26.8\n",
       "12  0   15  12  44.6 22.2\n",
       "13  0   10   9  40.6  4.8\n",
       "14  0   10   9  32.6  3.5\n",
       "15  0   10   9  39.5  5.3\n",
       "16  0   10   9  38.5  5.9\n",
       "17  1   10  12  46.6 18.4\n",
       "18  1   10  12  45.3 17.6\n",
       "19  1   15   9  43.4  8.1\n",
       "20  1   15   9  38.0  8.4\n",
       "21  1   15   6  39.3  3.6\n",
       "22  1   15   6  41.1  5.1\n",
       "23  1    6   6  36.8  3.9\n",
       "24  1    6   6  33.2  4.5\n",
       "25  1   15   6  39.4  6.2\n",
       "26  1   15   6  36.3  4.5\n",
       "27  1   10  12  46.2 18.5\n",
       "28  1   10  12  44.6 16.5\n",
       "29  1    6  12  48.9 26.0\n",
       "30  1    6  12  47.8 24.9\n",
       "... ... ... ... ...  ... \n",
       "256 1    6   6  38.8  6.9\n",
       "257 1   15  12  42.7  9.1\n",
       "258 1   15  12  39.3  7.4\n",
       "259 1    6   6  42.1 13.4\n",
       "260 1   10   9  37.3  9.3\n",
       "261 1   10   9  38.9  8.3\n",
       "262 1   15  12  39.2 11.1\n",
       "263 1    6   6  43.3  8.3\n",
       "264 1   15  12  42.5 11.4\n",
       "265 1   15  12  38.1  4.3\n",
       "266 1   15  12  41.2 10.6\n",
       "267 1    6   6  36.2  9.8\n",
       "268 1   15  12  38.0  5.5\n",
       "269 1   15  12  36.8  6.6\n",
       "270 1   15  12  41.5 10.3\n",
       "271 1   10   9  44.2 11.0\n",
       "272 1    6   6  41.7 11.6\n",
       "273 1   15  12  41.8  8.4\n",
       "274 1   15  12  42.2 13.9\n",
       "275 1   10   9  42.6 12.9\n",
       "276 1   15  12  44.2  9.7\n",
       "277 1    6   6  42.7 11.2\n",
       "278 1    6   6  45.4 14.6\n",
       "279 1   15  12  40.5 11.1\n",
       "280 1   15  12  41.2  6.6\n",
       "281 1   15  12  43.5  9.4\n",
       "282 1    6   6  42.5  9.2\n",
       "283 1    6   6  40.3  8.8\n",
       "284 1   10   9  43.2 10.1\n",
       "285 1   15  12  40.3  9.1"
      ]
     },
     "metadata": {},
     "output_type": "display_data"
    }
   ],
   "source": [
    "data <- read.csv(\"data/DevoirB_H25.csv\", header = TRUE, sep = \";\", dec = \",\")\n",
    "colnames(data)[1] <- \"M\"\n",
    "data"
   ]
  },
  {
   "cell_type": "markdown",
   "id": "c52e39a3-f5b6-4dc1-8165-05992e251efc",
   "metadata": {},
   "source": [
    "# *Phase 1* : Analyse statistique descriptive et inférence\n",
    "On demande de répondre aux questions suivantes en utilisant des techniques appropriées de statistique (statistique descriptive et inférence), illustrées par des diagrammes pertinents."
   ]
  },
  {
   "cell_type": "markdown",
   "id": "200a5f3a-812b-4113-92d4-e26d4c1dea6c",
   "metadata": {},
   "source": [
    "**a) (4 points)** Pour la variable *Indice de rugosité*, produisez les graphiques et les tableaux demandés et interprétez brièvement le résultat dans chaque cas : \n",
    "- un histogramme et un diagramme de Tukey (ou «Box Plot»); \n",
    "- une droite de Henry (ou «Normal Probability Plot») et un test de normalité (Shapiro-Wilk); \n",
    "- un tableau de statistiques descriptives comprenant : *moyenne*, *quartiles*, *écart type*, *intervalle de confiance pour la moyenne*."
   ]
  },
  {
   "cell_type": "markdown",
   "id": "a8b99cfe",
   "metadata": {},
   "source": [
    "## HISTOGRAMME"
   ]
  },
  {
   "cell_type": "code",
   "execution_count": 21,
   "id": "dfd0800b-b0a3-427e-af20-48446cf012ef",
   "metadata": {
    "vscode": {
     "languageId": "r"
    }
   },
   "outputs": [
    {
     "data": {
      "image/png": "[encoded data removed]",
      "text/plain": [
       "Plot with title \"Histogramme de l'IR\""
      ]
     },
     "metadata": {},
     "output_type": "display_data"
    }
   ],
   "source": [
    "hist(data$IR, \n",
    "    main = \"Histogramme de l'IR\",\n",
    "    xlab = \"Indice de rugosité\",\n",
    "    ylab = \"Fréquence\",\n",
    "    col = \"lightblue\")\n"
   ]
  },
  {
   "cell_type": "markdown",
   "id": "9c89a1fc",
   "metadata": {},
   "source": [
    "## DIAGRAMME DE TUCKEY"
   ]
  },
  {
   "cell_type": "code",
   "execution_count": 22,
   "id": "d45c805e",
   "metadata": {
    "vscode": {
     "languageId": "r"
    }
   },
   "outputs": [
    {
     "data": {
      "image/png": "[encoded data removed]",
      "text/plain": [
       "Plot with title \"Diagramme de Tukey de l'IR\""
      ]
     },
     "metadata": {},
     "output_type": "display_data"
    }
   ],
   "source": [
    "boxplot(data$IR, \n",
    "       main = \"Diagramme de Tukey de l'IR\",\n",
    "       xlab = \"Indice de rugosité\",\n",
    "       col = \"lightgreen\",\n",
    "       horizontal=TRUE,\n",
    "       notch=TRUE,\n",
    "       las=1)"
   ]
  },
  {
   "cell_type": "markdown",
   "id": "c69fd3c2",
   "metadata": {},
   "source": [
    "## DROITE DE HENRY"
   ]
  },
  {
   "cell_type": "code",
   "execution_count": 23,
   "id": "10d88e81",
   "metadata": {
    "vscode": {
     "languageId": "r"
    }
   },
   "outputs": [
    {
     "data": {
      "image/png": "[encoded data removed]",
      "text/plain": [
       "Plot with title \"Droite de Henry de l'IR\""
      ]
     },
     "metadata": {},
     "output_type": "display_data"
    }
   ],
   "source": [
    "qqnorm(data$IR, main = \"Droite de Henry de l'IR\")\n",
    "qqline(data$IR, col = \"red\", lwd = 2)"
   ]
  },
  {
   "cell_type": "markdown",
   "id": "a2f0007b",
   "metadata": {},
   "source": [
    "## TEST DE NORMALITE"
   ]
  },
  {
   "cell_type": "code",
   "execution_count": 24,
   "id": "e161b04f",
   "metadata": {
    "vscode": {
     "languageId": "r"
    }
   },
   "outputs": [
    {
     "data": {
      "text/plain": [
       "\n",
       "\tShapiro-Wilk normality test\n",
       "\n",
       "data:  data$IR\n",
       "W = 0.89815, p-value = 6.278e-13\n"
      ]
     },
     "metadata": {},
     "output_type": "display_data"
    }
   ],
   "source": [
    "shapiro_test <- shapiro.test(data$IR)\n",
    "shapiro_test"
   ]
  },
  {
   "cell_type": "markdown",
   "id": "b2ab2764",
   "metadata": {},
   "source": [
    "## STATISTIQUES DESCRIPTIVES"
   ]
  },
  {
   "cell_type": "code",
   "execution_count": 25,
   "id": "dd876a7b",
   "metadata": {
    "vscode": {
     "languageId": "r"
    }
   },
   "outputs": [
    {
     "data": {
      "text/html": [
       "<table>\n",
       "<thead><tr><th scope=col>Statistique</th><th scope=col>Valeur</th></tr></thead>\n",
       "<tbody>\n",
       "\t<tr><td>Moyenne    </td><td>11.16      </td></tr>\n",
       "\t<tr><td>Q1         </td><td> 7.90      </td></tr>\n",
       "\t<tr><td>Médiane    </td><td>10.40      </td></tr>\n",
       "\t<tr><td>Q3         </td><td>13.50      </td></tr>\n",
       "\t<tr><td>Écart type </td><td> 5.42      </td></tr>\n",
       "\t<tr><td>IC inf. 95%</td><td>10.52      </td></tr>\n",
       "\t<tr><td>IC sup. 95%</td><td>11.79      </td></tr>\n",
       "</tbody>\n",
       "</table>\n"
      ],
      "text/latex": [
       "\\begin{tabular}{r|ll}\n",
       " Statistique & Valeur\\\\\n",
       "\\hline\n",
       "\t Moyenne     & 11.16      \\\\\n",
       "\t Q1          &  7.90      \\\\\n",
       "\t Médiane     & 10.40      \\\\\n",
       "\t Q3          & 13.50      \\\\\n",
       "\t Écart type  &  5.42      \\\\\n",
       "\t IC inf. 95\\% & 10.52        \\\\\n",
       "\t IC sup. 95\\% & 11.79        \\\\\n",
       "\\end{tabular}\n"
      ],
      "text/markdown": [
       "\n",
       "| Statistique | Valeur |\n",
       "|---|---|\n",
       "| Moyenne     | 11.16       |\n",
       "| Q1          |  7.90       |\n",
       "| Médiane     | 10.40       |\n",
       "| Q3          | 13.50       |\n",
       "| Écart type  |  5.42       |\n",
       "| IC inf. 95% | 10.52       |\n",
       "| IC sup. 95% | 11.79       |\n",
       "\n"
      ],
      "text/plain": [
       "  Statistique Valeur\n",
       "1 Moyenne     11.16 \n",
       "2 Q1           7.90 \n",
       "3 Médiane     10.40 \n",
       "4 Q3          13.50 \n",
       "5 Écart type   5.42 \n",
       "6 IC inf. 95% 10.52 \n",
       "7 IC sup. 95% 11.79 "
      ]
     },
     "metadata": {},
     "output_type": "display_data"
    }
   ],
   "source": [
    "# Moyenne\n",
    "mean_IR <- mean(data$IR)\n",
    "\n",
    "# Ecart type\n",
    "sd_IR <- sd(data$IR)\n",
    "\n",
    "# Quartiles\n",
    "quartiles <- quantile(data$IR, probs = c(0.25, 0.5, 0.75))\n",
    "\n",
    "# Intervalle de confiance\n",
    "n <- length(data$IR)\n",
    "# Calcul avec la Loi de Student  (ecart type inconnu)\n",
    "error <- qt(0.975, df = n-1) * sd_IR / sqrt(n) # 0.975 pour alpha = 0.05\n",
    "lower <- mean_IR - error\n",
    "upper <- mean_IR + error\n",
    "\n",
    "# Création de la table\n",
    "stats_table <- data.frame(\n",
    "  Statistique = c(\"Moyenne\", \"Q1\", \"Médiane\", \"Q3\", \n",
    "              \"Écart type\", \"IC inf. 95%\", \"IC sup. 95%\"),\n",
    "  Valeur = round(c(mean_IR, quartiles[1], quartiles[2], quartiles[3], \n",
    "          sd_IR, lower, upper), 2)\n",
    ")\n",
    "\n",
    "stats_table \n"
   ]
  },
  {
   "cell_type": "markdown",
   "id": "1691adf6-c0ef-4ba0-89c7-d378bd508760",
   "metadata": {},
   "source": [
    "**b) (7 points)** Afin de vérifier si le type de matériau a un effet sur la qualité du perçage, on peut considérer la variable *Indice de rugosité* en deux groupes selon le *type de matériau*, et effectuer une comparaison des deux groupes en termes de moyenne, symétrie et variabilité. Pour ce faire, effectuez les analyses suivantes et donnez une brève interprétation : \n",
    "- deux histogrammes juxtaposés, et deux diagrammes de Tukey (ou «Box Plot») juxtaposés;\n",
    "- un tableau des statistiques descriptives par groupe : *moyenne*, *quartiles*, *écart type*, *intervalle de confiance pour la moyenne*;\n",
    "- un test d’hypothèse sur l’égalité des variances pour les deux groupes;\n",
    "- un test d’hypothèse sur l’égalité des moyennes pour les deux groupes."
   ]
  },
  {
   "cell_type": "markdown",
   "id": "dc44da50",
   "metadata": {},
   "source": [
    "## HISTOGRAMMES JUSTAPOXES"
   ]
  },
  {
   "cell_type": "code",
   "execution_count": 26,
   "id": "e25b45ad-1738-4c49-886b-4909693760d6",
   "metadata": {
    "vscode": {
     "languageId": "r"
    }
   },
   "outputs": [
    {
     "data": {
      "image/png": "[encoded data removed]",
      "text/plain": [
       "Plot with title \"Histogramme de l'IR pour le matériau 1\""
      ]
     },
     "metadata": {},
     "output_type": "display_data"
    }
   ],
   "source": [
    "layout(matrix(1:2,1,2))\n",
    "\n",
    "# Histogramme pour le premier type de matériau\n",
    "hist(data$IR[data$M==0],\n",
    "    main = \"Histogramme de l'IR pour le matériau 0\",\n",
    "    xlab = \"Indice de rugosité\",\n",
    "    ylab = \"Fréquence\",\n",
    "    col = \"lightblue\")\n",
    "\n",
    "# Histogramme pour le premier type de matériau\n",
    "hist(data$IR[data$M==1],\n",
    "    main = \"Histogramme de l'IR pour le matériau 1\",\n",
    "    xlab = \"Indice de rugosité\",\n",
    "    ylab = \"Fréquence\",\n",
    "    col = \"lightgreen\")\n",
    "\n"
   ]
  },
  {
   "cell_type": "markdown",
   "id": "5e47bb06",
   "metadata": {},
   "source": [
    "## DIAGRAMME DE TUCKEY JUSTAPOXES"
   ]
  },
  {
   "cell_type": "code",
   "execution_count": 27,
   "id": "df5a142a",
   "metadata": {
    "vscode": {
     "languageId": "r"
    }
   },
   "outputs": [
    {
     "data": {
      "image/png": "[encoded data removed]",
      "text/plain": [
       "Plot with title \"Diagrammes de Tukey de l'IR par type de matériau\""
      ]
     },
     "metadata": {},
     "output_type": "display_data"
    }
   ],
   "source": [
    "boxplot(IR ~ M, data = data, \n",
    "        main = \"Diagrammes de Tukey de l'IR par type de matériau\",\n",
    "        ylab = \"Type de matériau\", \n",
    "        xlab = \"Indice de rugosité\",\n",
    "        horizontal=TRUE,\n",
    "        notch=TRUE,\n",
    "        col = c(\"lightblue\", \"lightgreen\"),\n",
    "        las=1)"
   ]
  },
  {
   "cell_type": "markdown",
   "id": "12c2ae76",
   "metadata": {},
   "source": [
    "## STATISTIQUES DESCRIPTIVES PAR GROUPE"
   ]
  },
  {
   "cell_type": "code",
   "execution_count": 28,
   "id": "a975017e",
   "metadata": {
    "vscode": {
     "languageId": "r"
    }
   },
   "outputs": [
    {
     "data": {
      "text/html": [
       "<table>\n",
       "<thead><tr><th scope=col>Statistique</th><th scope=col>M0</th><th scope=col>M1</th></tr></thead>\n",
       "<tbody>\n",
       "\t<tr><td>Moyenne    </td><td>11.79      </td><td>10.56      </td></tr>\n",
       "\t<tr><td>Q1         </td><td> 8.00      </td><td> 7.90      </td></tr>\n",
       "\t<tr><td>Médiane    </td><td>10.95      </td><td>10.00      </td></tr>\n",
       "\t<tr><td>Q3         </td><td>14.70      </td><td>12.35      </td></tr>\n",
       "\t<tr><td>Écart type </td><td> 5.95      </td><td> 4.81      </td></tr>\n",
       "\t<tr><td>IC inf. 95%</td><td>10.78      </td><td> 9.78      </td></tr>\n",
       "\t<tr><td>IC sup. 95%</td><td>12.79      </td><td>11.35      </td></tr>\n",
       "</tbody>\n",
       "</table>\n"
      ],
      "text/latex": [
       "\\begin{tabular}{r|lll}\n",
       " Statistique & M0 & M1\\\\\n",
       "\\hline\n",
       "\t Moyenne     & 11.79       & 10.56      \\\\\n",
       "\t Q1          &  8.00       &  7.90      \\\\\n",
       "\t Médiane     & 10.95       & 10.00      \\\\\n",
       "\t Q3          & 14.70       & 12.35      \\\\\n",
       "\t Écart type  &  5.95       &  4.81      \\\\\n",
       "\t IC inf. 95\\% & 10.78         &  9.78        \\\\\n",
       "\t IC sup. 95\\% & 12.79         & 11.35        \\\\\n",
       "\\end{tabular}\n"
      ],
      "text/markdown": [
       "\n",
       "| Statistique | M0 | M1 |\n",
       "|---|---|---|\n",
       "| Moyenne     | 11.79       | 10.56       |\n",
       "| Q1          |  8.00       |  7.90       |\n",
       "| Médiane     | 10.95       | 10.00       |\n",
       "| Q3          | 14.70       | 12.35       |\n",
       "| Écart type  |  5.95       |  4.81       |\n",
       "| IC inf. 95% | 10.78       |  9.78       |\n",
       "| IC sup. 95% | 12.79       | 11.35       |\n",
       "\n"
      ],
      "text/plain": [
       "  Statistique M0    M1   \n",
       "1 Moyenne     11.79 10.56\n",
       "2 Q1           8.00  7.90\n",
       "3 Médiane     10.95 10.00\n",
       "4 Q3          14.70 12.35\n",
       "5 Écart type   5.95  4.81\n",
       "6 IC inf. 95% 10.78  9.78\n",
       "7 IC sup. 95% 12.79 11.35"
      ]
     },
     "metadata": {},
     "output_type": "display_data"
    }
   ],
   "source": [
    "stats_by_group <- function(x) {\n",
    "  # Moyenne\n",
    "  mean_x <- mean(x)\n",
    "\n",
    "  # Ecart type\n",
    "  sd_x <- sd(x)\n",
    "\n",
    "  # Quartiles\n",
    "  quarts <- quantile(x, probs = c(0.25, 0.5, 0.75))\n",
    "\n",
    "  # Intervalle de confiance\n",
    "  n <- length(x)\n",
    "  error <- qt(0.975, df = n-1) * sd_x / sqrt(n)\n",
    "  lower <- mean_x - error\n",
    "  upper <- mean_x + error\n",
    "  \n",
    "  return(c(mean_x, quarts[1], quarts[2], quarts[3], sd_x, lower, upper))\n",
    "}\n",
    "\n",
    "# Application de la fonction à chaque groupe\n",
    "M0_stats <- stats_by_group(data$IR[data$M == 0])\n",
    "M1_stats <- stats_by_group(data$IR[data$M == 1])\n",
    "\n",
    "# Création de la table\n",
    "stats_table <- data.frame(\n",
    "  Statistique = c(\"Moyenne\", \"Q1\", \"Médiane\", \"Q3\", \"Écart type\", \n",
    "                \"IC inf. 95%\", \"IC sup. 95%\"),\n",
    "  M0 = round(M0_stats, 2),\n",
    "  M1 = round(M1_stats, 2)\n",
    ")\n",
    "stats_table"
   ]
  },
  {
   "cell_type": "markdown",
   "id": "a4c92a0b",
   "metadata": {},
   "source": [
    "## TEST D'HYPOTHESE SUR LES VARIANCES"
   ]
  },
  {
   "cell_type": "code",
   "execution_count": 29,
   "id": "9bf917b1",
   "metadata": {
    "vscode": {
     "languageId": "r"
    }
   },
   "outputs": [
    {
     "data": {
      "text/plain": [
       "\n",
       "\tF test to compare two variances\n",
       "\n",
       "data:  IR by M\n",
       "F = 1.5313, num df = 137, denom df = 146, p-value = 0.01151\n",
       "alternative hypothesis: true ratio of variances is not equal to 1\n",
       "95 percent confidence interval:\n",
       " 1.100748 2.134131\n",
       "sample estimates:\n",
       "ratio of variances \n",
       "          1.531339 \n"
      ]
     },
     "metadata": {},
     "output_type": "display_data"
    }
   ],
   "source": [
    "# Si p<0.05, les variances sont différentes\n",
    "var_test <- var.test(IR ~ M, data = data)\n",
    "var_test"
   ]
  },
  {
   "cell_type": "markdown",
   "id": "621b1fc4",
   "metadata": {},
   "source": [
    "## TEST D'HYPOTHESE SUR LES MOYENNES"
   ]
  },
  {
   "cell_type": "code",
   "execution_count": 30,
   "id": "6d7942c2",
   "metadata": {
    "vscode": {
     "languageId": "r"
    }
   },
   "outputs": [
    {
     "data": {
      "text/plain": [
       "\n",
       "\tWelch Two Sample t-test\n",
       "\n",
       "data:  IR by M\n",
       "t = 1.9, df = 263.53, p-value = 0.05853\n",
       "alternative hypothesis: true difference in means is not equal to 0\n",
       "95 percent confidence interval:\n",
       " -0.04439994  2.48897255\n",
       "sample estimates:\n",
       "mean in group 0 mean in group 1 \n",
       "       11.78623        10.56395 \n"
      ]
     },
     "metadata": {},
     "output_type": "display_data"
    }
   ],
   "source": [
    "# Si p<0.05, les moyennes sont différentes\n",
    "t_test <- t.test(IR ~ M, data = data)\n",
    "t_test"
   ]
  },
  {
   "cell_type": "markdown",
   "id": "40fb0712-965f-4df3-9c5a-3abe0822eaee",
   "metadata": {},
   "source": [
    "# *Phase 2* : Recherche d’un modèle et optimisation\n",
    "On s’intéresse dans cette phase à la détermination d’un modèle permettant d’expliquer la qualité du perçage en fonction des divers facteurs considérés. Pour ce faire, on envisage des modèles de régression en considérant l’indice IR comme variable dépendante *Y*."
   ]
  },
  {
   "cell_type": "markdown",
   "id": "d94387b7-e548-4be5-98c0-fa453392c2de",
   "metadata": {},
   "source": [
    "**c) (7 points)** On considère d’abord les deux modèles suivants où X est la variable la plus fortement corrélée avec Y parmi les quatre variables susceptibles d’affecter la qualité du perçage : \n",
    "\n",
    "<div style=\"margin-left: 400px;\">Modèle 1 : $Y = \\lambda_0 + \\lambda_1 X + \\varepsilon$;</div>\n",
    "<div style=\"margin-left: 400px;\">Modèle 2 : $Y = \\beta_0 + \\beta_1 X + \\beta_2 X^2 + \\varepsilon'$</div><br>\n",
    "où $\\lambda_0, \\lambda_1, \\beta_0, \\beta_1, \\beta_2$  sont des paramètres; $\\varepsilon$ et $\\varepsilon'$ des erreurs aléatoires.<br><br>\n",
    "\n",
    "\n"
   ]
  },
  {
   "cell_type": "markdown",
   "id": "137bfc9c",
   "metadata": {},
   "source": [
    "### Corrélations entre IR et chacune des variables"
   ]
  },
  {
   "cell_type": "code",
   "execution_count": 31,
   "id": "d9883ea9",
   "metadata": {
    "vscode": {
     "languageId": "r"
    }
   },
   "outputs": [
    {
     "data": {
      "text/html": [
       "<table>\n",
       "<thead><tr><th></th><th scope=col>Variable</th><th scope=col>Correlation</th><th scope=col>AbsCorrelation</th></tr></thead>\n",
       "<tbody>\n",
       "\t<tr><th scope=row>4</th><td>T          </td><td> 0.81311051</td><td>0.81311051 </td></tr>\n",
       "\t<tr><th scope=row>3</th><td>A          </td><td> 0.33755363</td><td>0.33755363 </td></tr>\n",
       "\t<tr><th scope=row>1</th><td>M          </td><td>-0.11296863</td><td>0.11296863 </td></tr>\n",
       "\t<tr><th scope=row>2</th><td>V          </td><td>-0.01559024</td><td>0.01559024 </td></tr>\n",
       "</tbody>\n",
       "</table>\n"
      ],
      "text/latex": [
       "\\begin{tabular}{r|lll}\n",
       "  & Variable & Correlation & AbsCorrelation\\\\\n",
       "\\hline\n",
       "\t4 & T           &  0.81311051 & 0.81311051 \\\\\n",
       "\t3 & A           &  0.33755363 & 0.33755363 \\\\\n",
       "\t1 & M           & -0.11296863 & 0.11296863 \\\\\n",
       "\t2 & V           & -0.01559024 & 0.01559024 \\\\\n",
       "\\end{tabular}\n"
      ],
      "text/markdown": [
       "\n",
       "| <!--/--> | Variable | Correlation | AbsCorrelation |\n",
       "|---|---|---|---|\n",
       "| 4 | T           |  0.81311051 | 0.81311051  |\n",
       "| 3 | A           |  0.33755363 | 0.33755363  |\n",
       "| 1 | M           | -0.11296863 | 0.11296863  |\n",
       "| 2 | V           | -0.01559024 | 0.01559024  |\n",
       "\n"
      ],
      "text/plain": [
       "  Variable Correlation AbsCorrelation\n",
       "4 T         0.81311051 0.81311051    \n",
       "3 A         0.33755363 0.33755363    \n",
       "1 M        -0.11296863 0.11296863    \n",
       "2 V        -0.01559024 0.01559024    "
      ]
     },
     "metadata": {},
     "output_type": "display_data"
    }
   ],
   "source": [
    "#Coefficient de correlation de Pearson\n",
    "correlations <- data.frame(\n",
    "  Variable = c(\"M\", \"V\", \"A\", \"T\"),\n",
    "  Correlation = c(\n",
    "    cor(data$IR, data$M),\n",
    "    cor(data$IR, data$V),\n",
    "    cor(data$IR, data$A),\n",
    "    cor(data$IR, data$T)\n",
    "  )\n",
    ")\n",
    "\n",
    "# Trions les corrélations par valeur absolue décroissante\n",
    "correlations$AbsCorrelation <- abs(correlations$Correlation)\n",
    "correlations <- correlations[order(correlations$AbsCorrelation, decreasing = TRUE),]\n",
    "correlations"
   ]
  },
  {
   "cell_type": "markdown",
   "id": "f4e20b22",
   "metadata": {},
   "source": [
    "### Analyse de la corrélation\n",
    "\n",
    "D'après le tableau des coefficients de corrélation de Pearson, la **Température (T)** présente la plus forte corrélation absolue (0.813) avec l'Indice de Rugosité (IR). Cette relation positive significative indique que lorsque la température augmente, l'indice de rugosité tend également à augmenter. Nous utiliserons donc la température comme variable explicative X dans nos modèles de régression linéaire et quadratique.\n",
    "***"
   ]
  },
  {
   "cell_type": "markdown",
   "id": "328d6636",
   "metadata": {},
   "source": [
    "*1-c) **(5 points)*** Pour chacun des deux modèles ci-dessus, effectuez l’ajustement (i.e. obtenir le tableau des coeff icients de régression, le tableau d’analyse de la variance), ainsi qu’une analyse des résidus (normalité, homoscédasticité, points atypiques, etc.)<br>"
   ]
  },
  {
   "cell_type": "markdown",
   "id": "ee250b1a",
   "metadata": {},
   "source": [
    "### Modèle 1: Régression linéaire simple avec la température"
   ]
  },
  {
   "cell_type": "code",
   "execution_count": 32,
   "id": "a9fc9658-8ce8-4b94-b7f2-8a8aa84f2de8",
   "metadata": {
    "vscode": {
     "languageId": "r"
    }
   },
   "outputs": [
    {
     "data": {
      "text/plain": [
       "\n",
       "Call:\n",
       "lm(formula = IR ~ T, data = data)\n",
       "\n",
       "Residuals:\n",
       "    Min      1Q  Median      3Q     Max \n",
       "-7.1994 -2.2220 -0.0788  1.8176 11.4009 \n",
       "\n",
       "Coefficients:\n",
       "             Estimate Std. Error t value Pr(>|t|)    \n",
       "(Intercept) -46.61073    2.46543  -18.91   <2e-16 ***\n",
       "T             1.39677    0.05944   23.50   <2e-16 ***\n",
       "---\n",
       "Signif. codes:  0 '***' 0.001 '**' 0.01 '*' 0.05 '.' 0.1 ' ' 1\n",
       "\n",
       "Residual standard error: 3.159 on 283 degrees of freedom\n",
       "Multiple R-squared:  0.6611,\tAdjusted R-squared:   0.66 \n",
       "F-statistic: 552.2 on 1 and 283 DF,  p-value: < 2.2e-16\n"
      ]
     },
     "metadata": {},
     "output_type": "display_data"
    },
    {
     "data": {
      "text/html": [
       "<table>\n",
       "<thead><tr><th></th><th scope=col>Df</th><th scope=col>Sum Sq</th><th scope=col>Mean Sq</th><th scope=col>F value</th><th scope=col>Pr(&gt;F)</th></tr></thead>\n",
       "<tbody>\n",
       "\t<tr><th scope=row>T</th><td>  1        </td><td>5509.103   </td><td>5509.102813</td><td>552.1746   </td><td>1.82403e-68</td></tr>\n",
       "\t<tr><th scope=row>Residuals</th><td>283        </td><td>2823.520   </td><td>   9.977103</td><td>      NA   </td><td>         NA</td></tr>\n",
       "</tbody>\n",
       "</table>\n"
      ],
      "text/latex": [
       "\\begin{tabular}{r|lllll}\n",
       "  & Df & Sum Sq & Mean Sq & F value & Pr(>F)\\\\\n",
       "\\hline\n",
       "\tT &   1         & 5509.103    & 5509.102813 & 552.1746    & 1.82403e-68\\\\\n",
       "\tResiduals & 283         & 2823.520    &    9.977103 &       NA    &          NA\\\\\n",
       "\\end{tabular}\n"
      ],
      "text/markdown": [
       "\n",
       "| <!--/--> | Df | Sum Sq | Mean Sq | F value | Pr(>F) |\n",
       "|---|---|---|---|---|---|\n",
       "| T |   1         | 5509.103    | 5509.102813 | 552.1746    | 1.82403e-68 |\n",
       "| Residuals | 283         | 2823.520    |    9.977103 |       NA    |          NA |\n",
       "\n"
      ],
      "text/plain": [
       "          Df  Sum Sq   Mean Sq     F value  Pr(>F)     \n",
       "T           1 5509.103 5509.102813 552.1746 1.82403e-68\n",
       "Residuals 283 2823.520    9.977103       NA          NA"
      ]
     },
     "metadata": {},
     "output_type": "display_data"
    },
    {
     "data": {
      "text/plain": [
       "\n",
       "\tShapiro-Wilk normality test\n",
       "\n",
       "data:  residuals(modele1)\n",
       "W = 0.98569, p-value = 0.006156\n"
      ]
     },
     "metadata": {},
     "output_type": "display_data"
    },
    {
     "data": {
      "image/png": "[encoded data removed]",
      "text/plain": [
       "Plot with title \"\""
      ]
     },
     "metadata": {},
     "output_type": "display_data"
    }
   ],
   "source": [
    "modele1 <- lm(IR ~ T, data = data)\n",
    "\n",
    "# Tableau des coefficients de régression\n",
    "summary(modele1)\n",
    "\n",
    "# Tableau d'analyse de la variance\n",
    "anova(modele1)\n",
    "\n",
    "# Analyse des résidus\n",
    "par(mfrow=c(2,2))\n",
    "plot(modele1)\n",
    "\n",
    "# Test de normalité des résidus\n",
    "shapiro.test(residuals(modele1))"
   ]
  },
  {
   "cell_type": "markdown",
   "id": "671f6378",
   "metadata": {},
   "source": [
    "### Analyse du Modèle 1 \n",
    "\n",
    "#### Coefficients de régression\n",
    "- **Intercept (β₀)** = -46.6107, significatif (p < 2e-16)\n",
    "- **Température (β₁)** = 1.3968, significatif (p < 2e-16)\n",
    "\n",
    "Ces deux coefficients sont hautement significatifs (p < 2e-16), indiquant une relation forte entre la température et l'indice de rugosité. L'équation du modèle est donc:\n",
    "IR = -46.6107 + 1.3968×T\n",
    "\n",
    "Pour chaque augmentation d'un degré de température, l'indice de rugosité augmente en moyenne de 1.40 unités.\n",
    "\n",
    "#### Qualité globale du modèle\n",
    "- **R² ajusté** = 0.66: La température explique environ 66% de la variabilité de l'indice de rugosité.\n",
    "- **F-statistique** = 552.2 avec une p-value < 2.2e-16: Le modèle est globalement très significatif.\n",
    "- **Erreur standard résiduelle** = 3.159: Mesure la dispersion des points autour de la droite de régression.\n",
    "\n",
    "#### Analyse de la variance\n",
    "Le tableau ANOVA montre que:\n",
    "- La somme des carrés due à la régression (SSR) = 5509.10\n",
    "- La somme des carrés des résidus (SSE) = 2823.52\n",
    "- La température a un effet hautement significatif (F = 552.17, p < 2e-16)\n",
    "\n",
    "#### Analyse complète des résidus\n",
    "\n",
    "**Normalité**\n",
    "- Le test de Shapiro-Wilk donne W = 0.9857 avec p-value = 0.006156\n",
    "- Cette p-value < 0.05 nous amène à rejeter l'hypothèse de normalité des résidus\n",
    "- Le graphique Q-Q montre des déviations de la normalité aux extrémités, particulièrement pour les observations 5, 48 et 54\n",
    "\n",
    "**Homoscédasticité**\n",
    "- Le graphique \"Residuals vs Fitted\" montre une forme de courbe en U, suggérant une relation non-linéaire non capturée par le modèle\n",
    "- Le graphique \"Scale-Location\" indique une variance des résidus qui n'est pas constante (hétéroscédasticité)\n",
    "- On observe une tendance à avoir des résidus plus importants pour les valeurs extrêmes de la variable prédictive\n",
    "\n",
    "**Points atypiques et influents**\n",
    "- Les observations 5, 48 et 54 sont identifiées comme potentiellement atypiques\n",
    "- Le graphique \"Residuals vs Leverage\" montre quelques points avec un levier élevé, mais aucun ne dépasse les seuils critiques de la distance de Cook\n",
    "\n",
    "Le non-respect des hypothèses de normalité et d'homoscédasticité suggère qu'un modèle plus complexe (comme le modèle quadratique) pourrait être plus approprié pour décrire la relation entre la température et l'indice de rugosité.\n",
    "***"
   ]
  },
  {
   "cell_type": "markdown",
   "id": "67186338",
   "metadata": {},
   "source": [
    "### Modèle 2: Régression quadratique avec la température"
   ]
  },
  {
   "cell_type": "code",
   "execution_count": 33,
   "id": "a56d4c86",
   "metadata": {
    "vscode": {
     "languageId": "r"
    }
   },
   "outputs": [
    {
     "data": {
      "text/plain": [
       "\n",
       "Call:\n",
       "lm(formula = IR ~ T + I(T^2), data = data)\n",
       "\n",
       "Residuals:\n",
       "    Min      1Q  Median      3Q     Max \n",
       "-7.8281 -1.9746 -0.3336  1.8530 10.8094 \n",
       "\n",
       "Coefficients:\n",
       "             Estimate Std. Error t value Pr(>|t|)    \n",
       "(Intercept) 67.522278  17.039423   3.963 9.40e-05 ***\n",
       "T           -4.077654   0.811761  -5.023 9.03e-07 ***\n",
       "I(T^2)       0.065263   0.009655   6.760 7.94e-11 ***\n",
       "---\n",
       "Signif. codes:  0 '***' 0.001 '**' 0.01 '*' 0.05 '.' 0.1 ' ' 1\n",
       "\n",
       "Residual standard error: 2.935 on 282 degrees of freedom\n",
       "Multiple R-squared:  0.7084,\tAdjusted R-squared:  0.7063 \n",
       "F-statistic: 342.5 on 2 and 282 DF,  p-value: < 2.2e-16\n"
      ]
     },
     "metadata": {},
     "output_type": "display_data"
    },
    {
     "data": {
      "text/html": [
       "<table>\n",
       "<thead><tr><th></th><th scope=col>Df</th><th scope=col>Sum Sq</th><th scope=col>Mean Sq</th><th scope=col>F value</th><th scope=col>Pr(&gt;F)</th></tr></thead>\n",
       "<tbody>\n",
       "\t<tr><th scope=row>T</th><td>  1         </td><td>5509.1028   </td><td>5509.102813 </td><td>639.37454   </td><td>1.797705e-74</td></tr>\n",
       "\t<tr><th scope=row>I(T^2)</th><td>  1         </td><td> 393.6971   </td><td> 393.697072 </td><td> 45.69163   </td><td>7.939238e-11</td></tr>\n",
       "\t<tr><th scope=row>Residuals</th><td>282         </td><td>2429.8231   </td><td>   8.616394 </td><td>       NA   </td><td>          NA</td></tr>\n",
       "</tbody>\n",
       "</table>\n"
      ],
      "text/latex": [
       "\\begin{tabular}{r|lllll}\n",
       "  & Df & Sum Sq & Mean Sq & F value & Pr(>F)\\\\\n",
       "\\hline\n",
       "\tT &   1          & 5509.1028    & 5509.102813  & 639.37454    & 1.797705e-74\\\\\n",
       "\tI(T\\textasciicircum{}2) &   1          &  393.6971    &  393.697072  &  45.69163    & 7.939238e-11\\\\\n",
       "\tResiduals & 282          & 2429.8231    &    8.616394  &        NA    &           NA\\\\\n",
       "\\end{tabular}\n"
      ],
      "text/markdown": [
       "\n",
       "| <!--/--> | Df | Sum Sq | Mean Sq | F value | Pr(>F) |\n",
       "|---|---|---|---|---|---|\n",
       "| T |   1          | 5509.1028    | 5509.102813  | 639.37454    | 1.797705e-74 |\n",
       "| I(T^2) |   1          |  393.6971    |  393.697072  |  45.69163    | 7.939238e-11 |\n",
       "| Residuals | 282          | 2429.8231    |    8.616394  |        NA    |           NA |\n",
       "\n"
      ],
      "text/plain": [
       "          Df  Sum Sq    Mean Sq     F value   Pr(>F)      \n",
       "T           1 5509.1028 5509.102813 639.37454 1.797705e-74\n",
       "I(T^2)      1  393.6971  393.697072  45.69163 7.939238e-11\n",
       "Residuals 282 2429.8231    8.616394        NA           NA"
      ]
     },
     "metadata": {},
     "output_type": "display_data"
    },
    {
     "data": {
      "text/plain": [
       "\n",
       "\tShapiro-Wilk normality test\n",
       "\n",
       "data:  residuals(modele2)\n",
       "W = 0.98786, p-value = 0.01704\n"
      ]
     },
     "metadata": {},
     "output_type": "display_data"
    },
    {
     "data": {
      "image/png": "[encoded data removed]",
      "text/plain": [
       "Plot with title \"\""
      ]
     },
     "metadata": {},
     "output_type": "display_data"
    }
   ],
   "source": [
    "modele2 <- lm(IR ~ T + I(T^2), data = data)\n",
    "\n",
    "# Tableau des coefficients de régression\n",
    "summary(modele2)\n",
    "\n",
    "# Tableau d'analyse de la variance\n",
    "anova(modele2)\n",
    "\n",
    "# Analyse des résidus\n",
    "par(mfrow=c(2,2))\n",
    "plot(modele2)\n",
    "\n",
    "# Test de normalité des résidus\n",
    "shapiro.test(residuals(modele2))"
   ]
  },
  {
   "cell_type": "markdown",
   "id": "76b51e87",
   "metadata": {},
   "source": [
    "### Analyse du Modèle 2\n",
    "\n",
    "#### Coefficients de régression\n",
    "- **Intercept (β₀)** = 67.5228, significatif (p = 9.40e-05)\n",
    "- **Température (β₁)** = -4.0777, significatif (p = 9.03e-07)\n",
    "- **Température² (β₂)** = 0.0653, significatif (p = 7.94e-11)\n",
    "\n",
    "Les trois coefficients sont hautement significatifs, indiquant que la relation entre la température et l'indice de rugosité est bien décrite par une courbe parabolique. L'équation du modèle est donc:\n",
    "IR = 67.5228 - 4.0777×T + 0.0653×T²\n",
    "\n",
    "#### Qualité globale du modèle\n",
    "- **R² ajusté** = 0.7063: Le modèle quadratique explique environ 71% de la variabilité de l'indice de rugosité.\n",
    "- **F-statistique** = 342.5 avec une p-value < 2.2e-16: Le modèle est globalement très significatif.\n",
    "- **Erreur standard résiduelle** = 2.935: Plus faible que pour le modèle linéaire (3.159), indiquant une meilleure précision des prédictions.\n",
    "\n",
    "#### Analyse de la variance\n",
    "Le tableau ANOVA montre que:\n",
    "- Le terme linéaire (T) a une contribution significative (F = 639.37, p ≈ 0)\n",
    "- Le terme quadratique (T²) apporte également une contribution significative (F = 45.69, p = 7.94e-11)\n",
    "- La somme des carrés des résidus est à 2429.82\n",
    "\n",
    "#### Analyse complète des résidus\n",
    "\n",
    "**Normalité**\n",
    "- Le test de Shapiro-Wilk donne W = 0.9879 avec p-value = 0.0170\n",
    "- Cette p-value est inférieure à 0.05, ce qui nous amène à encore rejeter l'hyppthèse de normalité\n",
    "- Le graphique Q-Q montre une assez bonne adéquation à la normalité, avec toujours quelques déviations pour les observations 54, 48 et 238\n",
    "\n",
    "**Homoscédasticité**\n",
    "- Le graphique \"Residuals vs Fitted\" montre une répartition plus aléatoire des résidus autour de zéro, sans tendance claire\n",
    "- Le graphique \"Scale-Location\" indique une variance des résidus plus constante que dans le modèle linéaire, bien que toujours imparfaite\n",
    "- L'hétéroscédasticité est réduite par rapport au modèle linéaire\n",
    "\n",
    "**Points atypiques et influents**\n",
    "- Les observations 54, 48 et 238 sont toujours identifiées comme potentiellement atypiques\n",
    "- Le graphique \"Residuals vs Leverage\" montre quelques points avec un levier élevé, notamment l'observation 5, mais aucun ne dépasse les seuils critiques de la distance de Cook\n",
    "\n",
    "Le modèle quadratique améliore l'adéquation aux hypothèses de normalité et d'homoscédasticité par rapport au modèle linéaire. La forme parabolique capture mieux la relation entre la température et l'indice de rugosité, comme en témoignent l'amélioration du R² ajusté et la réduction de l'erreur standard résiduelle.\n",
    "***"
   ]
  },
  {
   "cell_type": "markdown",
   "id": "d11dd406",
   "metadata": {},
   "source": [
    "*2-c) **(2points)*** Effectuez une comparaison des deux modèles et dites si un des deux modèles est préférable à l’autre. Justifiez votre choix en précisant les critères utilisés."
   ]
  },
  {
   "cell_type": "code",
   "execution_count": 34,
   "id": "b6c7a75a",
   "metadata": {
    "vscode": {
     "languageId": "r"
    }
   },
   "outputs": [
    {
     "name": "stdout",
     "output_type": "stream",
     "text": [
      "R² ajusté du modèle 1: 0.6599513 \n",
      "R² ajusté du modèle 2: 0.7063283 \n"
     ]
    },
    {
     "data": {
      "text/html": [
       "<table>\n",
       "<thead><tr><th scope=col>Res.Df</th><th scope=col>RSS</th><th scope=col>Df</th><th scope=col>Sum of Sq</th><th scope=col>F</th><th scope=col>Pr(&gt;F)</th></tr></thead>\n",
       "<tbody>\n",
       "\t<tr><td>283         </td><td>2823.520    </td><td>NA          </td><td>      NA    </td><td>      NA    </td><td>          NA</td></tr>\n",
       "\t<tr><td>282         </td><td>2429.823    </td><td> 1          </td><td>393.6971    </td><td>45.69163    </td><td>7.939238e-11</td></tr>\n",
       "</tbody>\n",
       "</table>\n"
      ],
      "text/latex": [
       "\\begin{tabular}{r|llllll}\n",
       " Res.Df & RSS & Df & Sum of Sq & F & Pr(>F)\\\\\n",
       "\\hline\n",
       "\t 283          & 2823.520     & NA           &       NA     &       NA     &           NA\\\\\n",
       "\t 282          & 2429.823     &  1           & 393.6971     & 45.69163     & 7.939238e-11\\\\\n",
       "\\end{tabular}\n"
      ],
      "text/markdown": [
       "\n",
       "| Res.Df | RSS | Df | Sum of Sq | F | Pr(>F) |\n",
       "|---|---|---|---|---|---|\n",
       "| 283          | 2823.520     | NA           |       NA     |       NA     |           NA |\n",
       "| 282          | 2429.823     |  1           | 393.6971     | 45.69163     | 7.939238e-11 |\n",
       "\n"
      ],
      "text/plain": [
       "  Res.Df RSS      Df Sum of Sq F        Pr(>F)      \n",
       "1 283    2823.520 NA       NA        NA           NA\n",
       "2 282    2429.823  1 393.6971  45.69163 7.939238e-11"
      ]
     },
     "metadata": {},
     "output_type": "display_data"
    },
    {
     "name": "stdout",
     "output_type": "stream",
     "text": [
      "AIC du modèle 1: 1468.371 \n",
      "AIC du modèle 2: 1427.574 \n"
     ]
    },
    {
     "data": {
      "image/png": "[encoded data removed]",
      "text/plain": [
       "Plot with title \"Comparaison des modèles de régression\""
      ]
     },
     "metadata": {},
     "output_type": "display_data"
    }
   ],
   "source": [
    "# Comparaison des R² ajustés\n",
    "cat(\"R² ajusté du modèle 1:\", summary(modele1)$adj.r.squared, \"\\n\")\n",
    "cat(\"R² ajusté du modèle 2:\", summary(modele2)$adj.r.squared, \"\\n\")\n",
    "\n",
    "# Test ANOVA pour comparer les modèles\n",
    "anova(modele1, modele2)\n",
    "\n",
    "# Comparaison des AIC (Critère d'Information d'Akaike)\n",
    "AIC_modele1 <- AIC(modele1)\n",
    "AIC_modele2 <- AIC(modele2)\n",
    "cat(\"AIC du modèle 1:\", AIC_modele1, \"\\n\")\n",
    "cat(\"AIC du modèle 2:\", AIC_modele2, \"\\n\")\n",
    "\n",
    "# Visualisation des deux modèles\n",
    "plot(data$T, data$IR, \n",
    "     main = \"Comparaison des modèles de régression\",\n",
    "     xlab = \"Température (T)\", \n",
    "     ylab = \"Indice de Rugosité (IR)\")\n",
    "     \n",
    "# Ajout des courbes de régression\n",
    "T_seq <- seq(min(data$T), max(data$T), length.out = 100)\n",
    "lines(T_seq, predict(modele1, newdata = data.frame(T = T_seq)), col = \"blue\", lwd = 2)\n",
    "lines(T_seq, predict(modele2, newdata = data.frame(T = T_seq)), col = \"red\", lwd = 2)\n",
    "legend(\"topleft\", legend = c(\"Modèle 1 (linéaire)\", \"Modèle 2 (quadratique)\"), \n",
    "       col = c(\"blue\", \"red\"), lwd = 2)"
   ]
  },
  {
   "cell_type": "markdown",
   "id": "a9438b45",
   "metadata": {},
   "source": [
    "### Comparaison des modèles de régression\n",
    "\n",
    "Après avoir analysé les deux modèles de régression reliant l'Indice de Rugosité (IR) à la Température (T), il apparaît que le **modèle 2 (quadratique)** est préférable au modèle 1 (linéaire). Voici les critères qui justifient ce choix:\n",
    "\n",
    "1. **Coefficient de détermination ajusté (R² ajusté)**:\n",
    "   - Modèle 1 (linéaire): R² ajusté = 0.660\n",
    "   - Modèle 2 (quadratique): R² ajusté = 0.706\n",
    "   \n",
    "   Le modèle quadratique explique environ 70.6% de la variabilité de l'indice de rugosité, contre 66.0% pour le modèle linéaire. Cette amélioration indique une meilleure adéquation du modèle quadratique aux données.\n",
    "\n",
    "2. **Test ANOVA comparatif**:\n",
    "   - Le test ANOVA entre les deux modèles donne un F = 45.69 avec une p-value très faible (7.93e-11)\n",
    "   - Cela confirme que l'ajout du terme quadratique améliore significativement le modèle, et que cette amélioration n'est pas due au hasard.\n",
    "\n",
    "3. **Critère d'Information d'Akaike (AIC)**:\n",
    "   - Modèle 1: AIC = 1468.371\n",
    "   - Modèle 2: AIC = 1427.574\n",
    "   \n",
    "   Le modèle avec l'AIC le plus faible est préférable. La différence de 40.8 points en faveur du modèle quadratique indique une meilleure qualité prédictive.\n",
    "\n",
    "4. **Somme des carrés des résidus**:\n",
    "   - Modèle 1: SST = 2823.520\n",
    "   - Modèle 2: SST = 2429.823\n",
    "   \n",
    "   La réduction de près de 400 points dans la somme des carrés des résidus témoigne d'une meilleure adéquation du modèle quadratique aux données.\n",
    "\n",
    "5. **Visualisation graphique**:\n",
    "   - Le graphique montre clairement que la courbe quadratique (en rouge) s'ajuste mieux aux données que la droite (en bleu), notamment pour les valeurs extrêmes de température.\n",
    "\n",
    "***\n"
   ]
  },
  {
   "cell_type": "markdown",
   "id": "032d5014-ada4-48c8-8e27-7058a6f8ef54",
   "metadata": {},
   "source": [
    "**d) (5 points)** On cherche à vérifier si la variation linéaire de l’*Indice de rugosité* (IR) en fonction de la variable X (définie en **c)**) est similaire pour les deux types de matériau. Pour cela : <br><br>\n"
   ]
  },
  {
   "cell_type": "markdown",
   "id": "173ca39d-7f40-4f7b-9888-3232be0d7e17",
   "metadata": {
    "vscode": {
     "languageId": "r"
    }
   },
   "source": [
    "*1.d) **(2 points)*** Ajustez un **seul** modèle de régression permettant d’obtenir les équations de deux droites : une pour le type de matériau codé 0 et l’autre pour le type de matériau codé 1.<br>\n",
    "**Suggestion** : Inclure la variable matériau (M) de façon judicieuse dans le modèle à ajuster au 1.d).\n"
   ]
  },
  {
   "cell_type": "code",
   "execution_count": 35,
   "id": "fa59ff46",
   "metadata": {
    "vscode": {
     "languageId": "r"
    }
   },
   "outputs": [
    {
     "data": {
      "text/plain": [
       "\n",
       "Call:\n",
       "lm(formula = IR ~ T + M + T:M, data = data)\n",
       "\n",
       "Residuals:\n",
       "    Min      1Q  Median      3Q     Max \n",
       "-6.3767 -2.1996 -0.0693  1.7468 11.0458 \n",
       "\n",
       "Coefficients:\n",
       "             Estimate Std. Error t value Pr(>|t|)    \n",
       "(Intercept) -50.11865    3.41626 -14.671   <2e-16 ***\n",
       "T             1.48660    0.08179  18.177   <2e-16 ***\n",
       "M             7.96604    4.93588   1.614   0.1077    \n",
       "T:M          -0.20364    0.11902  -1.711   0.0882 .  \n",
       "---\n",
       "Signif. codes:  0 '***' 0.001 '**' 0.01 '*' 0.05 '.' 0.1 ' ' 1\n",
       "\n",
       "Residual standard error: 3.145 on 281 degrees of freedom\n",
       "Multiple R-squared:  0.6664,\tAdjusted R-squared:  0.6628 \n",
       "F-statistic: 187.1 on 3 and 281 DF,  p-value: < 2.2e-16\n"
      ]
     },
     "metadata": {},
     "output_type": "display_data"
    },
    {
     "data": {
      "image/png": "[encoded data removed]",
      "text/plain": [
       "Plot with title \"Régression linéaire par type de matériau\""
      ]
     },
     "metadata": {},
     "output_type": "display_data"
    }
   ],
   "source": [
    "# Ajustement d'un modèle avec interaction entre T et M\n",
    "# Y = β₀ + β₁T + β₂M + β₃(T×M) + ε\n",
    "modele_interaction <- lm(IR ~ T + M + T:M, data = data)\n",
    "\n",
    "# Affichage des résultats\n",
    "summary(modele_interaction)\n",
    "\n",
    "# Visualisation du modèle\n",
    "plot(data$T, data$IR, \n",
    "     main = \"Régression linéaire par type de matériau\",\n",
    "     xlab = \"Température (T)\", \n",
    "     ylab = \"Indice de Rugosité (IR)\",\n",
    "     col = data$M + 1, pch = 16)\n",
    "\n",
    "# Ajout des droites de régression pour chaque matériau\n",
    "T_seq <- seq(min(data$T), max(data$T), length.out = 100)\n",
    "\n",
    "# Prédictions pour matériau 0\n",
    "pred_M0 <- predict(modele_interaction, \n",
    "                  newdata = data.frame(T = T_seq, M = 0))\n",
    "lines(T_seq, pred_M0, col = \"blue\", lwd = 2)\n",
    "\n",
    "# Prédictions pour matériau 1\n",
    "pred_M1 <- predict(modele_interaction, \n",
    "                  newdata = data.frame(T = T_seq, M = 1))\n",
    "lines(T_seq, pred_M1, col = \"red\", lwd = 2)\n",
    "\n",
    "legend(\"topleft\", legend = c(\"Matériau 0\", \"Matériau 1\"), \n",
    "       col = c(\"blue\", \"red\"), pch = 16, lwd = 2)"
   ]
  },
  {
   "cell_type": "markdown",
   "id": "28f9450a",
   "metadata": {},
   "source": [
    "### Choix du modèle\n",
    "\n",
    "Pour cette question, nous devons ajuster un seul modèle de régression qui nous permette d'obtenir deux droites distinctes pour les deux types de matériaux. Ce besoin justifie le choix du modèle:\n",
    "\n",
    "IR = β₀ + β₁T + β₂M + β₃(T×M) + ε\n",
    "\n",
    "Ce modèle comprend:\n",
    "- Un terme constant (β₀)\n",
    "- L'effet principal de la température (β₁T)\n",
    "- L'effet principal du type de matériau (β₂M)\n",
    "- Un terme d'interaction entre température et matériau (β₃T×M)\n",
    "\n",
    "Ce modèle se simplifie différemment selon la valeur de M:\n",
    "   - Pour M=0: IR = β₀ + β₁T\n",
    "   - Pour M=1: IR = (β₀ + β₂) + (β₁ + β₃)T\n",
    "\n",
    "Nous obtenons ainsi deux droites avec potentiellement:\n",
    "   - Des ordonnées à l'origine différentes (β₀ vs β₀ + β₂)\n",
    "   - Des pentes différentes (β₁ vs β₁ + β₃)\n",
    "\n",
    "### Analyse des résultats\n",
    "\n",
    "Les coefficients obtenus sont:\n",
    "- β₀ = -50.1187 (Intercept) : significatif (p < 2e-16)\n",
    "- β₁ = 1.4866 (T) : significatif (p < 2e-16)\n",
    "- β₂ = 7.9668 (M) : non significatif (p = 0.1077)\n",
    "- β₃ = -0.2036 (T:M) : marginalement significatif (p = 0.0882)\n",
    "\n",
    "À partir de ces coefficients, nous pouvons écrire les équations des deux droites:\n",
    "\n",
    "**Pour le matériau 0**:\n",
    "IR = -50.1187 + 1.4866×T\n",
    "\n",
    "**Pour le matériau 1**:\n",
    "IR = (-50.1187 + 7.9668) + (1.4866 - 0.2036)×T\n",
    "   = -42.1519 + 1.2830×T\n",
    "\n",
    "Le graphique illustre ces deux droites et montre que:\n",
    "- Le matériau 0 (ligne bleue) présente une pente plus forte, indiquant que son indice de rugosité est plus sensible aux changements de température\n",
    "- Le matériau 1 (ligne rouge) a une ordonnée à l'origine plus élevée mais une pente légèrement plus faible\n",
    "- Les deux droites se croisent à une température intermédiaire, signifiant qu'aucun matériau n'est systématiquement meilleur en termes de rugosité\n",
    "\n",
    "Ces observations suggèrent que le choix optimal du matériau pourrait dépendre de la température de fonctionnement visée.\n",
    "***"
   ]
  },
  {
   "cell_type": "markdown",
   "id": "c358e7f8",
   "metadata": {},
   "source": [
    "*2.d) **(3 points)*** Effectuez ensuite un **seul** test afin de vérifier si les deux droites sont similaires (i.e., ont la même pente et même la même ordonnée à l’origine) et concluez.<br>"
   ]
  },
  {
   "cell_type": "code",
   "execution_count": 36,
   "id": "12ce1374",
   "metadata": {
    "vscode": {
     "languageId": "r"
    }
   },
   "outputs": [
    {
     "data": {
      "text/html": [
       "<table>\n",
       "<thead><tr><th scope=col>Res.Df</th><th scope=col>RSS</th><th scope=col>Df</th><th scope=col>Sum of Sq</th><th scope=col>F</th><th scope=col>Pr(&gt;F)</th></tr></thead>\n",
       "<tbody>\n",
       "\t<tr><td>283      </td><td>2823.520 </td><td>NA       </td><td>      NA </td><td>     NA  </td><td>       NA</td></tr>\n",
       "\t<tr><td>281      </td><td>2779.975 </td><td> 2       </td><td>43.54528 </td><td>2.20078  </td><td>0.1126217</td></tr>\n",
       "</tbody>\n",
       "</table>\n"
      ],
      "text/latex": [
       "\\begin{tabular}{r|llllll}\n",
       " Res.Df & RSS & Df & Sum of Sq & F & Pr(>F)\\\\\n",
       "\\hline\n",
       "\t 283       & 2823.520  & NA        &       NA  &      NA   &        NA\\\\\n",
       "\t 281       & 2779.975  &  2        & 43.54528  & 2.20078   & 0.1126217\\\\\n",
       "\\end{tabular}\n"
      ],
      "text/markdown": [
       "\n",
       "| Res.Df | RSS | Df | Sum of Sq | F | Pr(>F) |\n",
       "|---|---|---|---|---|---|\n",
       "| 283       | 2823.520  | NA        |       NA  |      NA   |        NA |\n",
       "| 281       | 2779.975  |  2        | 43.54528  | 2.20078   | 0.1126217 |\n",
       "\n"
      ],
      "text/plain": [
       "  Res.Df RSS      Df Sum of Sq F       Pr(>F)   \n",
       "1 283    2823.520 NA       NA       NA        NA\n",
       "2 281    2779.975  2 43.54528  2.20078 0.1126217"
      ]
     },
     "metadata": {},
     "output_type": "display_data"
    }
   ],
   "source": [
    "# Test global pour voir si les deux droites sont similaires\n",
    "reduced_model <- lm(IR ~ T, data = data)\n",
    "anova(reduced_model, modele_interaction)"
   ]
  },
  {
   "cell_type": "markdown",
   "id": "d0e7e7a6",
   "metadata": {},
   "source": [
    "### Similarité des droites\n",
    "\n",
    "Pour vérifier si les deux droites correspondant aux deux types de matériaux (matériau 0 et matériau 1) sont similaires, nous utilisons un test ANOVA :\n",
    "\n",
    "1. **Modèle réduit**: IR ~ T (une seule droite pour les deux matériaux)\n",
    "2. **Modèle complet**: IR ~ T + M + T:M (deux droites distinctes)\n",
    "\n",
    "L'hypothèse nulle est:\n",
    "H₀: β₂ = β₃ = 0 (pas d'effet du type de matériau)\n",
    "\n",
    "Ce qui signifie que les équations des deux droites seraient identiques:\n",
    "- Pour M=0: IR = β₀ + β₁T\n",
    "- Pour M=1: IR = β₀ + β₁T\n",
    "\n",
    "**Résultat du test ANOVA**\n",
    "\n",
    "Le test ANOVA comparant ces deux modèles donne:\n",
    "- F: 2.2008\n",
    "- p-value: 0.1126\n",
    "\n",
    "Avec une p-value de 0.1126 > 0.05, nous ne pouvons pas rejeter l'hypothèse nulle. \n",
    "\n",
    "Par conséquent, nous concluons que les droites de régression pour le matériau 0 et le matériau 1 ne sont pas significativement différentes. Cela signifie que le type de matériau n'influence pas significativement la relation entre la température et l'indice de rugosité. Un modèle plus simple, ne tenant compte que de l'effet de la température (IR ~ T), serait donc suffisant pour décrire la relation entre la température et l'indice de rugosité, quel que soit le type de matériau utilisé.\n",
    "***"
   ]
  },
  {
   "cell_type": "markdown",
   "id": "b86c8cc0-3e21-41cc-9a97-849cff227b90",
   "metadata": {},
   "source": [
    "**e) (10 points)** On considère à présent un troisième modèle linéaire multiple d’équation <br>\n",
    "<div style=\"margin-left: 250px;\">Modèle 3 : $IR = \\beta_0 + \\beta_1 V + \\beta_2 A + \\beta_3 T + \\beta_4 V^2 + \\beta_5 A^2 + \\beta_6 T^2 + \\beta_7 (V \\times A) + \\varepsilon$\n",
    ",</div> \n",
    "\n",
    "où $\\beta_i,\\quad i = 0,1,\\dots,7$ sont des paramètres et $\\varepsilon$, une erreur aléatoire que l’on suppose de loi $\\mathcal{N}(0, \\sigma^2)$\n",
    "). <br><br>"
   ]
  },
  {
   "cell_type": "markdown",
   "id": "695cda61",
   "metadata": {},
   "source": [
    "*1.e) **(4 points)*** Effectuez l’ajustement du modèle 3 (i.e. obtenez le tableau des coefficients de régression, le tableau d’analyse de la variance) et effectuez une analyse complète des résidus (normalité, homoscédasticité, points atypiques, etc.)<br> "
   ]
  },
  {
   "cell_type": "code",
   "execution_count": 37,
   "id": "56999ddf-c683-4dc9-847f-5399ddc85072",
   "metadata": {
    "vscode": {
     "languageId": "r"
    }
   },
   "outputs": [
    {
     "data": {
      "text/plain": [
       "\n",
       "Call:\n",
       "lm(formula = IR ~ V + A + T + I(V^2) + I(A^2) + I(T^2) + I(V * \n",
       "    A), data = data)\n",
       "\n",
       "Residuals:\n",
       "    Min      1Q  Median      3Q     Max \n",
       "-6.5136 -1.7790 -0.2784  1.7856  7.7997 \n",
       "\n",
       "Coefficients:\n",
       "             Estimate Std. Error t value Pr(>|t|)    \n",
       "(Intercept) 63.785507  15.947659   4.000 8.14e-05 ***\n",
       "V           -0.240113   0.558993  -0.430    0.668    \n",
       "A           -1.388507   1.042967  -1.331    0.184    \n",
       "T           -3.459998   0.758893  -4.559 7.71e-06 ***\n",
       "I(V^2)       0.006836   0.026767   0.255    0.799    \n",
       "I(A^2)       0.141931   0.060638   2.341    0.020 *  \n",
       "I(T^2)       0.055711   0.009064   6.147 2.75e-09 ***\n",
       "I(V * A)    -0.035704   0.025623  -1.393    0.165    \n",
       "---\n",
       "Signif. codes:  0 '***' 0.001 '**' 0.01 '*' 0.05 '.' 0.1 ' ' 1\n",
       "\n",
       "Residual standard error: 2.683 on 277 degrees of freedom\n",
       "Multiple R-squared:  0.7607,\tAdjusted R-squared:  0.7547 \n",
       "F-statistic: 125.8 on 7 and 277 DF,  p-value: < 2.2e-16\n"
      ]
     },
     "metadata": {},
     "output_type": "display_data"
    },
    {
     "data": {
      "text/html": [
       "<table>\n",
       "<thead><tr><th></th><th scope=col>Df</th><th scope=col>Sum Sq</th><th scope=col>Mean Sq</th><th scope=col>F value</th><th scope=col>Pr(&gt;F)</th></tr></thead>\n",
       "<tbody>\n",
       "\t<tr><th scope=row>V</th><td>  1         </td><td>   2.02529  </td><td>   2.025290 </td><td>  0.2813617 </td><td>5.962351e-01</td></tr>\n",
       "\t<tr><th scope=row>A</th><td>  1         </td><td>2288.79769  </td><td>2288.797689 </td><td>317.9692694 </td><td>6.775981e-48</td></tr>\n",
       "\t<tr><th scope=row>T</th><td>  1         </td><td>3635.56164  </td><td>3635.561641 </td><td>505.0673043 </td><td>2.205678e-64</td></tr>\n",
       "\t<tr><th scope=row>I(V^2)</th><td>  1         </td><td>  37.75321  </td><td>  37.753208 </td><td>  5.2448323 </td><td>2.276379e-02</td></tr>\n",
       "\t<tr><th scope=row>I(A^2)</th><td>  1         </td><td>  55.73012  </td><td>  55.730119 </td><td>  7.7422593 </td><td>5.765107e-03</td></tr>\n",
       "\t<tr><th scope=row>I(T^2)</th><td>  1         </td><td> 304.88447  </td><td> 304.884465 </td><td> 42.3558146 </td><td>3.554077e-10</td></tr>\n",
       "\t<tr><th scope=row>I(V * A)</th><td>  1         </td><td>  13.97672  </td><td>  13.976720 </td><td>  1.9417039 </td><td>1.646007e-01</td></tr>\n",
       "\t<tr><th scope=row>Residuals</th><td>277         </td><td>1993.89382  </td><td>   7.198173 </td><td>         NA </td><td>          NA</td></tr>\n",
       "</tbody>\n",
       "</table>\n"
      ],
      "text/latex": [
       "\\begin{tabular}{r|lllll}\n",
       "  & Df & Sum Sq & Mean Sq & F value & Pr(>F)\\\\\n",
       "\\hline\n",
       "\tV &   1          &    2.02529   &    2.025290  &   0.2813617  & 5.962351e-01\\\\\n",
       "\tA &   1          & 2288.79769   & 2288.797689  & 317.9692694  & 6.775981e-48\\\\\n",
       "\tT &   1          & 3635.56164   & 3635.561641  & 505.0673043  & 2.205678e-64\\\\\n",
       "\tI(V\\textasciicircum{}2) &   1          &   37.75321   &   37.753208  &   5.2448323  & 2.276379e-02\\\\\n",
       "\tI(A\\textasciicircum{}2) &   1          &   55.73012   &   55.730119  &   7.7422593  & 5.765107e-03\\\\\n",
       "\tI(T\\textasciicircum{}2) &   1          &  304.88447   &  304.884465  &  42.3558146  & 3.554077e-10\\\\\n",
       "\tI(V * A) &   1          &   13.97672   &   13.976720  &   1.9417039  & 1.646007e-01\\\\\n",
       "\tResiduals & 277          & 1993.89382   &    7.198173  &          NA  &           NA\\\\\n",
       "\\end{tabular}\n"
      ],
      "text/markdown": [
       "\n",
       "| <!--/--> | Df | Sum Sq | Mean Sq | F value | Pr(>F) |\n",
       "|---|---|---|---|---|---|\n",
       "| V |   1          |    2.02529   |    2.025290  |   0.2813617  | 5.962351e-01 |\n",
       "| A |   1          | 2288.79769   | 2288.797689  | 317.9692694  | 6.775981e-48 |\n",
       "| T |   1          | 3635.56164   | 3635.561641  | 505.0673043  | 2.205678e-64 |\n",
       "| I(V^2) |   1          |   37.75321   |   37.753208  |   5.2448323  | 2.276379e-02 |\n",
       "| I(A^2) |   1          |   55.73012   |   55.730119  |   7.7422593  | 5.765107e-03 |\n",
       "| I(T^2) |   1          |  304.88447   |  304.884465  |  42.3558146  | 3.554077e-10 |\n",
       "| I(V * A) |   1          |   13.97672   |   13.976720  |   1.9417039  | 1.646007e-01 |\n",
       "| Residuals | 277          | 1993.89382   |    7.198173  |          NA  |           NA |\n",
       "\n"
      ],
      "text/plain": [
       "          Df  Sum Sq     Mean Sq     F value     Pr(>F)      \n",
       "V           1    2.02529    2.025290   0.2813617 5.962351e-01\n",
       "A           1 2288.79769 2288.797689 317.9692694 6.775981e-48\n",
       "T           1 3635.56164 3635.561641 505.0673043 2.205678e-64\n",
       "I(V^2)      1   37.75321   37.753208   5.2448323 2.276379e-02\n",
       "I(A^2)      1   55.73012   55.730119   7.7422593 5.765107e-03\n",
       "I(T^2)      1  304.88447  304.884465  42.3558146 3.554077e-10\n",
       "I(V * A)    1   13.97672   13.976720   1.9417039 1.646007e-01\n",
       "Residuals 277 1993.89382    7.198173          NA           NA"
      ]
     },
     "metadata": {},
     "output_type": "display_data"
    },
    {
     "data": {
      "text/plain": [
       "\n",
       "\tShapiro-Wilk normality test\n",
       "\n",
       "data:  residuals(modele3)\n",
       "W = 0.99038, p-value = 0.0578\n"
      ]
     },
     "metadata": {},
     "output_type": "display_data"
    },
    {
     "data": {
      "image/png": "[encoded data removed]",
      "text/plain": [
       "Plot with title \"\""
      ]
     },
     "metadata": {},
     "output_type": "display_data"
    }
   ],
   "source": [
    "# Ajustement du modèle 3\n",
    "# IR = β₀ + β₁V + β₂A + β₃T + β₄V² + β₅A² + β₆T² + β₇(V×A) + ε\n",
    "modele3 <- lm(IR ~ V + A + T + I(V^2) + I(A^2) + I(T^2) + I(V*A), data = data)\n",
    "\n",
    "# Tableau des coefficients de régression\n",
    "summary(modele3)\n",
    "\n",
    "# Tableau d'analyse de la variance\n",
    "anova(modele3)\n",
    "\n",
    "# Analyse des résidus\n",
    "par(mfrow=c(2,2))\n",
    "plot(modele3)\n",
    "\n",
    "# Test de normalité des résidus\n",
    "shapiro.test(residuals(modele3))"
   ]
  },
  {
   "cell_type": "markdown",
   "id": "9dd0398f",
   "metadata": {},
   "source": [
    "### Analyse du Modèle 3\n",
    "\n",
    "#### Coefficients de régression\n",
    "- **Intercept (β₀)** = 63.7855, significatif (p = 8.14e-05)\n",
    "- **Vitesse (β₁)** = -0.2401, non significatif (p = 0.668)\n",
    "- **Avance (β₂)** = -1.3886, non significatif (p = 0.184)\n",
    "- **Température (β₃)** = -3.4599, significatif (p = 7.71e-06)\n",
    "- **Vitesse² (β₄)** = 0.0068, non significatif (p = 0.799)\n",
    "- **Avance² (β₅)** = 0.1419, significatif (p = 0.020)\n",
    "- **Température² (β₆)** = 0.0557, significatif (p = 2.75e-09)\n",
    "- **Vitesse×Avance (β₇)** = -0.0357, non significatif (p = 0.165)\n",
    "\n",
    "L'équation du modèle est donc:\n",
    "IR = 63.7855 - 0.2401×V - 1.3886×A - 3.4599×T + 0.0068×V² + 0.1419×A² + 0.0557×T² - 0.0357×(V×A)\n",
    "\n",
    "Les termes les plus significatifs sont la température (T), son terme quadratique (T²) et le terme quadratique de l'avance (A²).\n",
    "\n",
    "#### Qualité globale du modèle\n",
    "- **R² ajusté** = 0.7547: Le modèle explique environ 75.5% de la variabilité de l'indice de rugosité.\n",
    "- **F-statistique** = 125.8 avec une p-value < 2.2e-16: Le modèle est globalement très significatif.\n",
    "- **Erreur standard résiduelle** = 2.683: Meilleure que pour les modèles précédents (3.159 pour le modèle 1, 2.935 pour le modèle 2).\n",
    "\n",
    "#### Analyse de la variance\n",
    "Le tableau ANOVA montre que:\n",
    "- La température (T) a la contribution la plus importante (F = 505.07, p = 2.2e-64)\n",
    "- L'avance (A) a également une contribution majeure (F = 317.97, p = 6.8e-48)\n",
    "- Le terme quadratique T² est très significatif (F = 42.36, p = 3.6e-10)\n",
    "- Le terme quadratique A² est significatif (F = 7.74, p = 5.8e-03)\n",
    "- La vitesse (V), son terme quadratique (V²) et l'interaction V×A ont des contributions non significatives ou marginales\n",
    "\n",
    "#### Analyse complète des résidus\n",
    "\n",
    "**Normalité**\n",
    "- Le test de Shapiro-Wilk donne W = 0.9904 avec p-value = 0.0578\n",
    "- Cette p-value est supérieure à 0.05, indiquant que l'hypothèse de normalité des résidus peut être acceptée\n",
    "- Le graphique Q-Q montre une bonne adéquation à la normalité avec seulement de légères déviations aux extrémités (observations 41, 59, 132)\n",
    "\n",
    "**Homoscédasticité**\n",
    "- Le graphique \"Residuals vs Fitted\" montre une répartition relativement aléatoire des résidus autour de zéro\n",
    "- Le graphique \"Scale-Location\" indique une variance des résidus qui semble plus homogène que dans les modèles précédents\n",
    "- L'hypothèse d'homoscédasticité est mieux respectée dans ce modèle\n",
    "\n",
    "**Points atypiques et influents**\n",
    "- Les observations 41, 59, 132 sont identifiées comme potentiellement atypiques\n",
    "- Le graphique \"Residuals vs Leverage\" montre quelques points avec un levier modéré (48, 54), mais aucun ne semble avoir une influence excessive sur le modèle\n",
    "\n",
    "Ce modèle plus complexe offre une meilleure adéquation aux données que les modèles précédents, avec une amélioration du R² ajusté (de 0.66 à 0.75) et une réduction de l'erreur standard résiduelle. Les hypothèses du modèle de régression sont globalement satisfaites, notamment celle de la normalité des résidus qui n'était pas respectée dans les modèles plus simples.\n",
    "***\n"
   ]
  },
  {
   "cell_type": "markdown",
   "id": "7e58de8b",
   "metadata": {},
   "source": [
    "*2.e) **(2 points)*** Calculez un intervalle de confiance pour chacun des paramètres $\\beta_j,\\quad j = 0,1,\\dots,7$ du modèle 3 et interprétez les résultats obtenus.<br><br>\n",
    "Le modèle 3 (modèle complet) est constitué du modèle 1 (modèle réduit) auquel des variables ont été ajoutées. <br>"
   ]
  },
  {
   "cell_type": "code",
   "execution_count": 38,
   "id": "61d21aba",
   "metadata": {
    "vscode": {
     "languageId": "r"
    }
   },
   "outputs": [
    {
     "name": "stdout",
     "output_type": "stream",
     "text": [
      "                  2.5 %      97.5 %\n",
      "(Intercept) 32.39150253 95.17951243\n",
      "V           -1.34052696  0.86030072\n",
      "A           -3.44165517  0.66464041\n",
      "T           -4.95392786 -1.96606810\n",
      "I(V^2)      -0.04585608  0.05952787\n",
      "I(A^2)       0.02256044  0.26130171\n",
      "I(T^2)       0.03786846  0.07355351\n",
      "I(V * A)    -0.08614406  0.01473602\n"
     ]
    }
   ],
   "source": [
    "# Calcul des intervalles de confiance à 95% pour les paramètres\n",
    "intervalles_confiance <- confint(modele3, level = 0.95)\n",
    "print(intervalles_confiance)"
   ]
  },
  {
   "cell_type": "markdown",
   "id": "200920e0",
   "metadata": {},
   "source": [
    "*3.e) **(4 points)*** Effectuez un **seul** test afin de vérifier si l’ajout des variables au modèle 1 pour obtenir le modèle 3 est utile. Préciser les hypothèses $H_0$ et $H_1$ de ce test."
   ]
  },
  {
   "cell_type": "code",
   "execution_count": null,
   "id": "ddbf9f90",
   "metadata": {
    "vscode": {
     "languageId": "r"
    }
   },
   "outputs": [
    {
     "data": {
      "text/html": [
       "<table>\n",
       "<thead><tr><th scope=col>Res.Df</th><th scope=col>RSS</th><th scope=col>Df</th><th scope=col>Sum of Sq</th><th scope=col>F</th><th scope=col>Pr(&gt;F)</th></tr></thead>\n",
       "<tbody>\n",
       "\t<tr><td>283         </td><td>2823.520    </td><td>NA          </td><td>      NA    </td><td>      NA    </td><td>          NA</td></tr>\n",
       "\t<tr><td>277         </td><td>1993.894    </td><td> 6          </td><td>829.6263    </td><td>19.20919    </td><td>1.038858e-18</td></tr>\n",
       "</tbody>\n",
       "</table>\n"
      ],
      "text/latex": [
       "\\begin{tabular}{r|llllll}\n",
       " Res.Df & RSS & Df & Sum of Sq & F & Pr(>F)\\\\\n",
       "\\hline\n",
       "\t 283          & 2823.520     & NA           &       NA     &       NA     &           NA\\\\\n",
       "\t 277          & 1993.894     &  6           & 829.6263     & 19.20919     & 1.038858e-18\\\\\n",
       "\\end{tabular}\n"
      ],
      "text/markdown": [
       "\n",
       "| Res.Df | RSS | Df | Sum of Sq | F | Pr(>F) |\n",
       "|---|---|---|---|---|---|\n",
       "| 283          | 2823.520     | NA           |       NA     |       NA     |           NA |\n",
       "| 277          | 1993.894     |  6           | 829.6263     | 19.20919     | 1.038858e-18 |\n",
       "\n"
      ],
      "text/plain": [
       "  Res.Df RSS      Df Sum of Sq F        Pr(>F)      \n",
       "1 283    2823.520 NA       NA        NA           NA\n",
       "2 277    1993.894  6 829.6263  19.20919 1.038858e-18"
      ]
     },
     "metadata": {},
     "output_type": "display_data"
    }
   ],
   "source": [
    "# Modèle réduit (modèle 1 avec T comme variable X)\n",
    "modele_reduit <- lm(IR ~ T, data = data)\n",
    "\n",
    "# Test d'hypothèse pour vérifier si l'ajout des variables est utile\n",
    "# H₀: β₁ = β₂ = β₄ = β₅ = β₆ = β₇ = 0\n",
    "# H₁: Au moins un des coefficients β₁, β₂, β₄, β₅, β₆, β₇ est différent de 0\n",
    "anova(modele_reduit, modele3)"
   ]
  },
  {
   "cell_type": "markdown",
   "id": "73ef1cf3-f0a5-404f-a2e5-c720d0d2e078",
   "metadata": {},
   "source": [
    "**f) (3 points)** Simplifiez, s’il y a lieu, le modèle 3, en ne conservant que les variables significatives. Analysez le nouveau modèle ainsi obtenu et commentez sur sa validité."
   ]
  },
  {
   "cell_type": "code",
   "execution_count": null,
   "id": "c09da4e4-912d-4a60-9f93-4e39efd13992",
   "metadata": {
    "vscode": {
     "languageId": "r"
    }
   },
   "outputs": [
    {
     "name": "stdout",
     "output_type": "stream",
     "text": [
      "Start:  AIC=570.43\n",
      "IR ~ V + A + T + I(V^2) + I(A^2) + I(T^2) + I(V * A)\n",
      "\n",
      "           Df Sum of Sq    RSS    AIC\n",
      "- I(V^2)    1     0.469 1994.4 568.49\n",
      "- V         1     1.328 1995.2 568.62\n",
      "- A         1    12.758 2006.7 570.24\n",
      "- I(V * A)  1    13.977 2007.9 570.42\n",
      "<none>                  1993.9 570.43\n",
      "- I(A^2)    1    39.435 2033.3 574.01\n",
      "- T         1   149.628 2143.5 589.05\n",
      "- I(T^2)    1   271.951 2265.8 604.87\n",
      "\n",
      "Step:  AIC=568.49\n",
      "IR ~ V + A + T + I(A^2) + I(T^2) + I(V * A)\n",
      "\n",
      "           Df Sum of Sq    RSS    AIC\n",
      "- V         1     1.617 1996.0 566.72\n",
      "- I(V * A)  1    13.581 2007.9 568.43\n",
      "<none>                  1994.4 568.49\n",
      "- A         1    34.089 2028.5 571.32\n",
      "- I(A^2)    1    72.722 2067.1 576.70\n",
      "- T         1   149.293 2143.7 587.07\n",
      "- I(T^2)    1   271.554 2265.9 602.88\n",
      "\n",
      "Step:  AIC=566.72\n",
      "IR ~ A + T + I(A^2) + I(T^2) + I(V * A)\n",
      "\n",
      "           Df Sum of Sq    RSS    AIC\n",
      "<none>                  1996.0 566.72\n",
      "- A         1    44.744 2040.7 571.04\n",
      "- I(A^2)    1   123.082 2119.1 581.78\n",
      "- T         1   148.207 2144.2 585.14\n",
      "- I(T^2)    1   272.005 2268.0 601.13\n",
      "- I(V * A)  1   274.895 2270.9 601.50\n"
     ]
    },
    {
     "data": {
      "text/plain": [
       "\n",
       "Call:\n",
       "lm(formula = IR ~ A + T + I(A^2) + I(T^2) + I(V * A), data = data)\n",
       "\n",
       "Residuals:\n",
       "    Min      1Q  Median      3Q     Max \n",
       "-6.4887 -1.8537 -0.2496  1.7403  7.8393 \n",
       "\n",
       "Coefficients:\n",
       "             Estimate Std. Error t value Pr(>|t|)    \n",
       "(Intercept) 62.625040  15.672814   3.996 8.26e-05 ***\n",
       "A           -1.698567   0.679189  -2.501    0.013 *  \n",
       "T           -3.396380   0.746205  -4.552 7.96e-06 ***\n",
       "I(A^2)       0.164030   0.039546   4.148 4.46e-05 ***\n",
       "I(T^2)       0.054951   0.008912   6.166 2.45e-09 ***\n",
       "I(V * A)    -0.045268   0.007303  -6.199 2.04e-09 ***\n",
       "---\n",
       "Signif. codes:  0 '***' 0.001 '**' 0.01 '*' 0.05 '.' 0.1 ' ' 1\n",
       "\n",
       "Residual standard error: 2.675 on 279 degrees of freedom\n",
       "Multiple R-squared:  0.7605,\tAdjusted R-squared:  0.7562 \n",
       "F-statistic: 177.1 on 5 and 279 DF,  p-value: < 2.2e-16\n"
      ]
     },
     "metadata": {},
     "output_type": "display_data"
    },
    {
     "data": {
      "text/plain": [
       "\n",
       "\tShapiro-Wilk normality test\n",
       "\n",
       "data:  residuals(modele_simplifie)\n",
       "W = 0.99027, p-value = 0.05484\n"
      ]
     },
     "metadata": {},
     "output_type": "display_data"
    },
    {
     "data": {
      "image/png": "[encoded data removed]",
      "text/plain": [
       "Plot with title \"\""
      ]
     },
     "metadata": {},
     "output_type": "display_data"
    }
   ],
   "source": [
    "# Utilisons la méthode de sélection par étapes pour simplifier le modèle\n",
    "modele_simplifie <- step(modele3, direction = \"backward\")\n",
    "\n",
    "# Affichage du modèle simplifié\n",
    "summary(modele_simplifie)\n",
    "\n",
    "# Analyse des résidus du modèle simplifié\n",
    "par(mfrow=c(2,2))\n",
    "plot(modele_simplifie)\n",
    "\n",
    "# Test de normalité des résidus\n",
    "shapiro.test(residuals(modele_simplifie))"
   ]
  },
  {
   "cell_type": "markdown",
   "id": "30d04606-a78a-4f99-b73a-f6e858ac7faa",
   "metadata": {},
   "source": [
    "**g) (2 points)** Sur la base du modèle que vous avez obtenu en f), calculez un intervalle de prévision pour la qualité (*indice IR*) d’un perçage effectué avec une vitesse de rotation $V = 15$, une avance $A = 20$, et une température de $T = 53$. Commentez brièvement votre résultat."
   ]
  },
  {
   "cell_type": "code",
   "execution_count": null,
   "id": "580de732-68c6-4003-8d87-33a617bc203d",
   "metadata": {
    "vscode": {
     "languageId": "r"
    }
   },
   "outputs": [
    {
     "name": "stdout",
     "output_type": "stream",
     "text": [
      "       fit      lwr      upr\n",
      "1 55.03561 44.57304 65.49818\n"
     ]
    }
   ],
   "source": [
    "# Création des nouvelles données pour prédiction\n",
    "nouvelles_donnees <- data.frame(V = 15, A = 20, T = 53)\n",
    "\n",
    "# Si certaines variables du modèle simplifié nécessitent des transformations\n",
    "# Ajoutez-les ici en fonction du modèle simplifié obtenu\n",
    "# Par exemple, si V^2 est dans le modèle, ajoutez:\n",
    "# nouvelles_donnees$'I(V^2)' <- nouvelles_donnees$V^2\n",
    "\n",
    "# Calcul de l'intervalle de prévision\n",
    "prediction <- predict(modele_simplifie, nouvelles_donnees, interval = \"prediction\", level = 0.95)\n",
    "print(prediction)"
   ]
  }
 ],
 "metadata": {
  "kernelspec": {
   "display_name": "R",
   "language": "R",
   "name": "ir"
  },
  "language_info": {
   "codemirror_mode": "r",
   "file_extension": ".r",
   "mimetype": "text/x-r-source",
   "name": "R",
   "pygments_lexer": "r",
   "version": "3.6.1"
  }
 },
 "nbformat": 4,
 "nbformat_minor": 5
}
