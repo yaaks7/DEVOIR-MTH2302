{
 "cells": [
  {
   "attachments": {},
   "cell_type": "markdown",
   "id": "6b930905-31e0-4da8-a749-bf1d046c05b7",
   "metadata": {},
   "source": [
    "\n",
    "<center> <h1> MTH2302B- PROBABILITÉS ET STATISTIQUE </h1></center>\n",
    "<center> <h2> <strong>Devoir- Hiver 2025 </strong></h2></center>\n"
   ]
  },
  {
   "cell_type": "markdown",
   "id": "739c1da2-e69c-4e94-b2ad-1d2a7ede2be9",
   "metadata": {},
   "source": [
    "**CONTEXTE** <br>\n",
    "Ce devoir est une étude de cas qui consiste en une analyse des données recueillies au cours d’une expérience visant l’amélioration d’un procédé d’assemblage par rivetage des panneaux du fuselage d’un modèle d’avion. \n",
    "\n",
    "La coque ainsi que les ailes d’un avion sont constituées de différents panneaux qui tiennent par des rivets. La pose de ces rivets exige le perçage d’un grand nombre de trous dont la qualité (position, précision, etc.) est primordiale pour l’obtention d’un bon assemblage. Le but de l’étude est de : (1) analyser et évaluer l’importance de l’effet des différentes facteurs variables sur la qualité du perçage; (2) déterminer un modèle mathématique convenable permettant d’évaluer la qualité du perçage en fonction des variables pertinentes; et (3) déterminer (si possible) les valeurs optimales de ces variables pour un perçage de bonne qualité. La description des variables de l’étude est donnée ci-dessous. \n",
    "\n",
    "**La mesure de la qualité du procédé de perçage**. La qualité du procédé de perçage est mesurée par celle des trous obtenus. Dans le cadre de cette expérience (voir le Tableau 1), la variable utilisée est l’*Indice de rugosité* (IR) qui est une mesure de la qualité du fini de la surface d’un trou; elle est obtenue à l’aide d’une sonde. Plus l’indice est petit, meilleure est la qualité du perçage. \n",
    "\n",
    "**Les variables susceptibles d’affecter la qualité du perçage**. La qualité du procédé de perçage peut dépendre de plusieurs facteurs. Dans cette étude, après un certain nombre d’analyses, quelques variables furent retenues par les ingénieurs responsables du procédé. Chaque trou est obtenu en utilisant une perceuse dont la vitesse de rotation ainsi que l’avance sont contrôlables. Le perçage a lieu sous un jet d’air comprimé dont la température est contrôlable. Ainsi, les quatre variables retenues furent : la *vitesse* de rotation de la perceuse, l’*avance* du foret de la perceuse, la *température* de l’air injecté et le *type de matériau*.\n",
    "\n",
    "**Les données**. Les données à analyser ont été obtenues à l’aide d’une expérience planifiée. L’expérience ne pouvant pas être menée sur une véritable ligne d’assemblage, elle fut réalisée avec des spécimens de pièces métalliques appelés coupons. Certains coupons étaient constitués d’un type de matériau (codé 0), et les autres d’un autre type de matériau (codé 1). Les essais furent réalisés en perçant des trous dans les coupons et ce, selon diverses combinaisons de valeurs des facteurs. L’indice (IR) des trous obtenus était mesuré dans chaque cas. Le Tableau 1 ci-dessous présente les différentes variables de l’étude (numéro de colonne dans le fichier, symbole, description, etc.) telles qu’elles apparaissent dans votre ensemble de données personnalisées (constitué de 220 observations sur 5 variables).\n",
    "\n",
    "<center><img title=\"Tableau des données\" alt=\"data_table\" src=\"img/tableau1.png\"></center>\n",
    "\n",
    "Le but est d’analyser les résultats issus de cette expérience afin d’évaluer : l’effet de chacun des facteurs sur la qualité des trous obtenus et en retenir les plus influents; la façon par laquelle ces facteurs interagissent et quelle combinaison des valeurs de facteurs donne lieu à un procédé de perçage de qualité optimale."
   ]
  },
  {
   "cell_type": "markdown",
   "id": "6be444eb-092b-4970-aa6c-68b87cb50598",
   "metadata": {},
   "source": [
    "# Importation des données"
   ]
  },
  {
   "cell_type": "code",
   "execution_count": 96,
   "id": "3241ff00-9892-4af9-9e1e-a95de0e61b9c",
   "metadata": {
    "vscode": {
     "languageId": "r"
    }
   },
   "outputs": [
    {
     "data": {
      "text/html": [
       "<table>\n",
       "<thead><tr><th scope=col>M</th><th scope=col>V</th><th scope=col>A</th><th scope=col>T</th><th scope=col>IR</th></tr></thead>\n",
       "<tbody>\n",
       "\t<tr><td>0   </td><td> 6  </td><td> 9  </td><td>39.4</td><td> 6.9</td></tr>\n",
       "\t<tr><td>0   </td><td> 6  </td><td> 9  </td><td>41.3</td><td> 6.2</td></tr>\n",
       "\t<tr><td>0   </td><td>15  </td><td>12  </td><td>47.3</td><td>25.3</td></tr>\n",
       "\t<tr><td>0   </td><td>10  </td><td> 6  </td><td>35.7</td><td> 2.5</td></tr>\n",
       "\t<tr><td>0   </td><td> 6  </td><td>12  </td><td>52.7</td><td>38.4</td></tr>\n",
       "\t<tr><td>0   </td><td> 6  </td><td>12  </td><td>47.9</td><td>28.0</td></tr>\n",
       "\t<tr><td>0   </td><td> 6  </td><td> 9  </td><td>43.2</td><td> 8.0</td></tr>\n",
       "\t<tr><td>0   </td><td> 6  </td><td> 9  </td><td>38.3</td><td> 6.1</td></tr>\n",
       "\t<tr><td>0   </td><td>10  </td><td> 6  </td><td>36.9</td><td> 3.2</td></tr>\n",
       "\t<tr><td>0   </td><td>10  </td><td> 6  </td><td>38.1</td><td> 3.4</td></tr>\n",
       "\t<tr><td>0   </td><td>15  </td><td>12  </td><td>47.3</td><td>26.8</td></tr>\n",
       "\t<tr><td>0   </td><td>15  </td><td>12  </td><td>44.6</td><td>22.2</td></tr>\n",
       "\t<tr><td>0   </td><td>10  </td><td> 9  </td><td>40.6</td><td> 4.8</td></tr>\n",
       "\t<tr><td>0   </td><td>10  </td><td> 9  </td><td>32.6</td><td> 3.5</td></tr>\n",
       "\t<tr><td>0   </td><td>10  </td><td> 9  </td><td>39.5</td><td> 5.3</td></tr>\n",
       "\t<tr><td>0   </td><td>10  </td><td> 9  </td><td>38.5</td><td> 5.9</td></tr>\n",
       "\t<tr><td>1   </td><td>10  </td><td>12  </td><td>46.6</td><td>18.4</td></tr>\n",
       "\t<tr><td>1   </td><td>10  </td><td>12  </td><td>45.3</td><td>17.6</td></tr>\n",
       "\t<tr><td>1   </td><td>15  </td><td> 9  </td><td>43.4</td><td> 8.1</td></tr>\n",
       "\t<tr><td>1   </td><td>15  </td><td> 9  </td><td>38.0</td><td> 8.4</td></tr>\n",
       "\t<tr><td>1   </td><td>15  </td><td> 6  </td><td>39.3</td><td> 3.6</td></tr>\n",
       "\t<tr><td>1   </td><td>15  </td><td> 6  </td><td>41.1</td><td> 5.1</td></tr>\n",
       "\t<tr><td>1   </td><td> 6  </td><td> 6  </td><td>36.8</td><td> 3.9</td></tr>\n",
       "\t<tr><td>1   </td><td> 6  </td><td> 6  </td><td>33.2</td><td> 4.5</td></tr>\n",
       "\t<tr><td>1   </td><td>15  </td><td> 6  </td><td>39.4</td><td> 6.2</td></tr>\n",
       "\t<tr><td>1   </td><td>15  </td><td> 6  </td><td>36.3</td><td> 4.5</td></tr>\n",
       "\t<tr><td>1   </td><td>10  </td><td>12  </td><td>46.2</td><td>18.5</td></tr>\n",
       "\t<tr><td>1   </td><td>10  </td><td>12  </td><td>44.6</td><td>16.5</td></tr>\n",
       "\t<tr><td>1   </td><td> 6  </td><td>12  </td><td>48.9</td><td>26.0</td></tr>\n",
       "\t<tr><td>1   </td><td> 6  </td><td>12  </td><td>47.8</td><td>24.9</td></tr>\n",
       "\t<tr><td>...</td><td>...</td><td>...</td><td>...</td><td>...</td></tr>\n",
       "\t<tr><td>1   </td><td> 6  </td><td> 6  </td><td>38.8</td><td> 6.9</td></tr>\n",
       "\t<tr><td>1   </td><td>15  </td><td>12  </td><td>42.7</td><td> 9.1</td></tr>\n",
       "\t<tr><td>1   </td><td>15  </td><td>12  </td><td>39.3</td><td> 7.4</td></tr>\n",
       "\t<tr><td>1   </td><td> 6  </td><td> 6  </td><td>42.1</td><td>13.4</td></tr>\n",
       "\t<tr><td>1   </td><td>10  </td><td> 9  </td><td>37.3</td><td> 9.3</td></tr>\n",
       "\t<tr><td>1   </td><td>10  </td><td> 9  </td><td>38.9</td><td> 8.3</td></tr>\n",
       "\t<tr><td>1   </td><td>15  </td><td>12  </td><td>39.2</td><td>11.1</td></tr>\n",
       "\t<tr><td>1   </td><td> 6  </td><td> 6  </td><td>43.3</td><td> 8.3</td></tr>\n",
       "\t<tr><td>1   </td><td>15  </td><td>12  </td><td>42.5</td><td>11.4</td></tr>\n",
       "\t<tr><td>1   </td><td>15  </td><td>12  </td><td>38.1</td><td> 4.3</td></tr>\n",
       "\t<tr><td>1   </td><td>15  </td><td>12  </td><td>41.2</td><td>10.6</td></tr>\n",
       "\t<tr><td>1   </td><td> 6  </td><td> 6  </td><td>36.2</td><td> 9.8</td></tr>\n",
       "\t<tr><td>1   </td><td>15  </td><td>12  </td><td>38.0</td><td> 5.5</td></tr>\n",
       "\t<tr><td>1   </td><td>15  </td><td>12  </td><td>36.8</td><td> 6.6</td></tr>\n",
       "\t<tr><td>1   </td><td>15  </td><td>12  </td><td>41.5</td><td>10.3</td></tr>\n",
       "\t<tr><td>1   </td><td>10  </td><td> 9  </td><td>44.2</td><td>11.0</td></tr>\n",
       "\t<tr><td>1   </td><td> 6  </td><td> 6  </td><td>41.7</td><td>11.6</td></tr>\n",
       "\t<tr><td>1   </td><td>15  </td><td>12  </td><td>41.8</td><td> 8.4</td></tr>\n",
       "\t<tr><td>1   </td><td>15  </td><td>12  </td><td>42.2</td><td>13.9</td></tr>\n",
       "\t<tr><td>1   </td><td>10  </td><td> 9  </td><td>42.6</td><td>12.9</td></tr>\n",
       "\t<tr><td>1   </td><td>15  </td><td>12  </td><td>44.2</td><td> 9.7</td></tr>\n",
       "\t<tr><td>1   </td><td> 6  </td><td> 6  </td><td>42.7</td><td>11.2</td></tr>\n",
       "\t<tr><td>1   </td><td> 6  </td><td> 6  </td><td>45.4</td><td>14.6</td></tr>\n",
       "\t<tr><td>1   </td><td>15  </td><td>12  </td><td>40.5</td><td>11.1</td></tr>\n",
       "\t<tr><td>1   </td><td>15  </td><td>12  </td><td>41.2</td><td> 6.6</td></tr>\n",
       "\t<tr><td>1   </td><td>15  </td><td>12  </td><td>43.5</td><td> 9.4</td></tr>\n",
       "\t<tr><td>1   </td><td> 6  </td><td> 6  </td><td>42.5</td><td> 9.2</td></tr>\n",
       "\t<tr><td>1   </td><td> 6  </td><td> 6  </td><td>40.3</td><td> 8.8</td></tr>\n",
       "\t<tr><td>1   </td><td>10  </td><td> 9  </td><td>43.2</td><td>10.1</td></tr>\n",
       "\t<tr><td>1   </td><td>15  </td><td>12  </td><td>40.3</td><td> 9.1</td></tr>\n",
       "</tbody>\n",
       "</table>\n"
      ],
      "text/latex": [
       "\\begin{tabular}{r|lllll}\n",
       " M & V & A & T & IR\\\\\n",
       "\\hline\n",
       "\t 0    &  6   &  9   & 39.4 &  6.9\\\\\n",
       "\t 0    &  6   &  9   & 41.3 &  6.2\\\\\n",
       "\t 0    & 15   & 12   & 47.3 & 25.3\\\\\n",
       "\t 0    & 10   &  6   & 35.7 &  2.5\\\\\n",
       "\t 0    &  6   & 12   & 52.7 & 38.4\\\\\n",
       "\t 0    &  6   & 12   & 47.9 & 28.0\\\\\n",
       "\t 0    &  6   &  9   & 43.2 &  8.0\\\\\n",
       "\t 0    &  6   &  9   & 38.3 &  6.1\\\\\n",
       "\t 0    & 10   &  6   & 36.9 &  3.2\\\\\n",
       "\t 0    & 10   &  6   & 38.1 &  3.4\\\\\n",
       "\t 0    & 15   & 12   & 47.3 & 26.8\\\\\n",
       "\t 0    & 15   & 12   & 44.6 & 22.2\\\\\n",
       "\t 0    & 10   &  9   & 40.6 &  4.8\\\\\n",
       "\t 0    & 10   &  9   & 32.6 &  3.5\\\\\n",
       "\t 0    & 10   &  9   & 39.5 &  5.3\\\\\n",
       "\t 0    & 10   &  9   & 38.5 &  5.9\\\\\n",
       "\t 1    & 10   & 12   & 46.6 & 18.4\\\\\n",
       "\t 1    & 10   & 12   & 45.3 & 17.6\\\\\n",
       "\t 1    & 15   &  9   & 43.4 &  8.1\\\\\n",
       "\t 1    & 15   &  9   & 38.0 &  8.4\\\\\n",
       "\t 1    & 15   &  6   & 39.3 &  3.6\\\\\n",
       "\t 1    & 15   &  6   & 41.1 &  5.1\\\\\n",
       "\t 1    &  6   &  6   & 36.8 &  3.9\\\\\n",
       "\t 1    &  6   &  6   & 33.2 &  4.5\\\\\n",
       "\t 1    & 15   &  6   & 39.4 &  6.2\\\\\n",
       "\t 1    & 15   &  6   & 36.3 &  4.5\\\\\n",
       "\t 1    & 10   & 12   & 46.2 & 18.5\\\\\n",
       "\t 1    & 10   & 12   & 44.6 & 16.5\\\\\n",
       "\t 1    &  6   & 12   & 48.9 & 26.0\\\\\n",
       "\t 1    &  6   & 12   & 47.8 & 24.9\\\\\n",
       "\t ... & ... & ... & ... & ...\\\\\n",
       "\t 1    &  6   &  6   & 38.8 &  6.9\\\\\n",
       "\t 1    & 15   & 12   & 42.7 &  9.1\\\\\n",
       "\t 1    & 15   & 12   & 39.3 &  7.4\\\\\n",
       "\t 1    &  6   &  6   & 42.1 & 13.4\\\\\n",
       "\t 1    & 10   &  9   & 37.3 &  9.3\\\\\n",
       "\t 1    & 10   &  9   & 38.9 &  8.3\\\\\n",
       "\t 1    & 15   & 12   & 39.2 & 11.1\\\\\n",
       "\t 1    &  6   &  6   & 43.3 &  8.3\\\\\n",
       "\t 1    & 15   & 12   & 42.5 & 11.4\\\\\n",
       "\t 1    & 15   & 12   & 38.1 &  4.3\\\\\n",
       "\t 1    & 15   & 12   & 41.2 & 10.6\\\\\n",
       "\t 1    &  6   &  6   & 36.2 &  9.8\\\\\n",
       "\t 1    & 15   & 12   & 38.0 &  5.5\\\\\n",
       "\t 1    & 15   & 12   & 36.8 &  6.6\\\\\n",
       "\t 1    & 15   & 12   & 41.5 & 10.3\\\\\n",
       "\t 1    & 10   &  9   & 44.2 & 11.0\\\\\n",
       "\t 1    &  6   &  6   & 41.7 & 11.6\\\\\n",
       "\t 1    & 15   & 12   & 41.8 &  8.4\\\\\n",
       "\t 1    & 15   & 12   & 42.2 & 13.9\\\\\n",
       "\t 1    & 10   &  9   & 42.6 & 12.9\\\\\n",
       "\t 1    & 15   & 12   & 44.2 &  9.7\\\\\n",
       "\t 1    &  6   &  6   & 42.7 & 11.2\\\\\n",
       "\t 1    &  6   &  6   & 45.4 & 14.6\\\\\n",
       "\t 1    & 15   & 12   & 40.5 & 11.1\\\\\n",
       "\t 1    & 15   & 12   & 41.2 &  6.6\\\\\n",
       "\t 1    & 15   & 12   & 43.5 &  9.4\\\\\n",
       "\t 1    &  6   &  6   & 42.5 &  9.2\\\\\n",
       "\t 1    &  6   &  6   & 40.3 &  8.8\\\\\n",
       "\t 1    & 10   &  9   & 43.2 & 10.1\\\\\n",
       "\t 1    & 15   & 12   & 40.3 &  9.1\\\\\n",
       "\\end{tabular}\n"
      ],
      "text/markdown": [
       "\n",
       "| M | V | A | T | IR |\n",
       "|---|---|---|---|---|\n",
       "| 0    |  6   |  9   | 39.4 |  6.9 |\n",
       "| 0    |  6   |  9   | 41.3 |  6.2 |\n",
       "| 0    | 15   | 12   | 47.3 | 25.3 |\n",
       "| 0    | 10   |  6   | 35.7 |  2.5 |\n",
       "| 0    |  6   | 12   | 52.7 | 38.4 |\n",
       "| 0    |  6   | 12   | 47.9 | 28.0 |\n",
       "| 0    |  6   |  9   | 43.2 |  8.0 |\n",
       "| 0    |  6   |  9   | 38.3 |  6.1 |\n",
       "| 0    | 10   |  6   | 36.9 |  3.2 |\n",
       "| 0    | 10   |  6   | 38.1 |  3.4 |\n",
       "| 0    | 15   | 12   | 47.3 | 26.8 |\n",
       "| 0    | 15   | 12   | 44.6 | 22.2 |\n",
       "| 0    | 10   |  9   | 40.6 |  4.8 |\n",
       "| 0    | 10   |  9   | 32.6 |  3.5 |\n",
       "| 0    | 10   |  9   | 39.5 |  5.3 |\n",
       "| 0    | 10   |  9   | 38.5 |  5.9 |\n",
       "| 1    | 10   | 12   | 46.6 | 18.4 |\n",
       "| 1    | 10   | 12   | 45.3 | 17.6 |\n",
       "| 1    | 15   |  9   | 43.4 |  8.1 |\n",
       "| 1    | 15   |  9   | 38.0 |  8.4 |\n",
       "| 1    | 15   |  6   | 39.3 |  3.6 |\n",
       "| 1    | 15   |  6   | 41.1 |  5.1 |\n",
       "| 1    |  6   |  6   | 36.8 |  3.9 |\n",
       "| 1    |  6   |  6   | 33.2 |  4.5 |\n",
       "| 1    | 15   |  6   | 39.4 |  6.2 |\n",
       "| 1    | 15   |  6   | 36.3 |  4.5 |\n",
       "| 1    | 10   | 12   | 46.2 | 18.5 |\n",
       "| 1    | 10   | 12   | 44.6 | 16.5 |\n",
       "| 1    |  6   | 12   | 48.9 | 26.0 |\n",
       "| 1    |  6   | 12   | 47.8 | 24.9 |\n",
       "| ... | ... | ... | ... | ... |\n",
       "| 1    |  6   |  6   | 38.8 |  6.9 |\n",
       "| 1    | 15   | 12   | 42.7 |  9.1 |\n",
       "| 1    | 15   | 12   | 39.3 |  7.4 |\n",
       "| 1    |  6   |  6   | 42.1 | 13.4 |\n",
       "| 1    | 10   |  9   | 37.3 |  9.3 |\n",
       "| 1    | 10   |  9   | 38.9 |  8.3 |\n",
       "| 1    | 15   | 12   | 39.2 | 11.1 |\n",
       "| 1    |  6   |  6   | 43.3 |  8.3 |\n",
       "| 1    | 15   | 12   | 42.5 | 11.4 |\n",
       "| 1    | 15   | 12   | 38.1 |  4.3 |\n",
       "| 1    | 15   | 12   | 41.2 | 10.6 |\n",
       "| 1    |  6   |  6   | 36.2 |  9.8 |\n",
       "| 1    | 15   | 12   | 38.0 |  5.5 |\n",
       "| 1    | 15   | 12   | 36.8 |  6.6 |\n",
       "| 1    | 15   | 12   | 41.5 | 10.3 |\n",
       "| 1    | 10   |  9   | 44.2 | 11.0 |\n",
       "| 1    |  6   |  6   | 41.7 | 11.6 |\n",
       "| 1    | 15   | 12   | 41.8 |  8.4 |\n",
       "| 1    | 15   | 12   | 42.2 | 13.9 |\n",
       "| 1    | 10   |  9   | 42.6 | 12.9 |\n",
       "| 1    | 15   | 12   | 44.2 |  9.7 |\n",
       "| 1    |  6   |  6   | 42.7 | 11.2 |\n",
       "| 1    |  6   |  6   | 45.4 | 14.6 |\n",
       "| 1    | 15   | 12   | 40.5 | 11.1 |\n",
       "| 1    | 15   | 12   | 41.2 |  6.6 |\n",
       "| 1    | 15   | 12   | 43.5 |  9.4 |\n",
       "| 1    |  6   |  6   | 42.5 |  9.2 |\n",
       "| 1    |  6   |  6   | 40.3 |  8.8 |\n",
       "| 1    | 10   |  9   | 43.2 | 10.1 |\n",
       "| 1    | 15   | 12   | 40.3 |  9.1 |\n",
       "\n"
      ],
      "text/plain": [
       "    M   V   A   T    IR  \n",
       "1   0    6   9  39.4  6.9\n",
       "2   0    6   9  41.3  6.2\n",
       "3   0   15  12  47.3 25.3\n",
       "4   0   10   6  35.7  2.5\n",
       "5   0    6  12  52.7 38.4\n",
       "6   0    6  12  47.9 28.0\n",
       "7   0    6   9  43.2  8.0\n",
       "8   0    6   9  38.3  6.1\n",
       "9   0   10   6  36.9  3.2\n",
       "10  0   10   6  38.1  3.4\n",
       "11  0   15  12  47.3 26.8\n",
       "12  0   15  12  44.6 22.2\n",
       "13  0   10   9  40.6  4.8\n",
       "14  0   10   9  32.6  3.5\n",
       "15  0   10   9  39.5  5.3\n",
       "16  0   10   9  38.5  5.9\n",
       "17  1   10  12  46.6 18.4\n",
       "18  1   10  12  45.3 17.6\n",
       "19  1   15   9  43.4  8.1\n",
       "20  1   15   9  38.0  8.4\n",
       "21  1   15   6  39.3  3.6\n",
       "22  1   15   6  41.1  5.1\n",
       "23  1    6   6  36.8  3.9\n",
       "24  1    6   6  33.2  4.5\n",
       "25  1   15   6  39.4  6.2\n",
       "26  1   15   6  36.3  4.5\n",
       "27  1   10  12  46.2 18.5\n",
       "28  1   10  12  44.6 16.5\n",
       "29  1    6  12  48.9 26.0\n",
       "30  1    6  12  47.8 24.9\n",
       "... ... ... ... ...  ... \n",
       "256 1    6   6  38.8  6.9\n",
       "257 1   15  12  42.7  9.1\n",
       "258 1   15  12  39.3  7.4\n",
       "259 1    6   6  42.1 13.4\n",
       "260 1   10   9  37.3  9.3\n",
       "261 1   10   9  38.9  8.3\n",
       "262 1   15  12  39.2 11.1\n",
       "263 1    6   6  43.3  8.3\n",
       "264 1   15  12  42.5 11.4\n",
       "265 1   15  12  38.1  4.3\n",
       "266 1   15  12  41.2 10.6\n",
       "267 1    6   6  36.2  9.8\n",
       "268 1   15  12  38.0  5.5\n",
       "269 1   15  12  36.8  6.6\n",
       "270 1   15  12  41.5 10.3\n",
       "271 1   10   9  44.2 11.0\n",
       "272 1    6   6  41.7 11.6\n",
       "273 1   15  12  41.8  8.4\n",
       "274 1   15  12  42.2 13.9\n",
       "275 1   10   9  42.6 12.9\n",
       "276 1   15  12  44.2  9.7\n",
       "277 1    6   6  42.7 11.2\n",
       "278 1    6   6  45.4 14.6\n",
       "279 1   15  12  40.5 11.1\n",
       "280 1   15  12  41.2  6.6\n",
       "281 1   15  12  43.5  9.4\n",
       "282 1    6   6  42.5  9.2\n",
       "283 1    6   6  40.3  8.8\n",
       "284 1   10   9  43.2 10.1\n",
       "285 1   15  12  40.3  9.1"
      ]
     },
     "metadata": {},
     "output_type": "display_data"
    }
   ],
   "source": [
    "data <- read.csv(\"data/DevoirB_H25.csv\", header = TRUE, sep = \";\", dec = \",\")\n",
    "colnames(data)[1] <- \"M\"\n",
    "data"
   ]
  },
  {
   "cell_type": "markdown",
   "id": "c52e39a3-f5b6-4dc1-8165-05992e251efc",
   "metadata": {},
   "source": [
    "# *Phase 1* : Analyse statistique descriptive et inférence\n",
    "On demande de répondre aux questions suivantes en utilisant des techniques appropriées de statistique (statistique descriptive et inférence), illustrées par des diagrammes pertinents."
   ]
  },
  {
   "cell_type": "markdown",
   "id": "200a5f3a-812b-4113-92d4-e26d4c1dea6c",
   "metadata": {},
   "source": [
    "**a) (4 points)** Pour la variable *Indice de rugosité*, produisez les graphiques et les tableaux demandés et interprétez brièvement le résultat dans chaque cas : \n",
    "- un histogramme et un diagramme de Tukey (ou «Box Plot»); \n",
    "- une droite de Henry (ou «Normal Probability Plot») et un test de normalité (Shapiro-Wilk); \n",
    "- un tableau de statistiques descriptives comprenant : *moyenne*, *quartiles*, *écart type*, *intervalle de confiance pour la moyenne*."
   ]
  },
  {
   "cell_type": "markdown",
   "id": "a8b99cfe",
   "metadata": {},
   "source": [
    "### HISTOGRAMME"
   ]
  },
  {
   "cell_type": "code",
   "execution_count": 97,
   "id": "dfd0800b-b0a3-427e-af20-48446cf012ef",
   "metadata": {
    "vscode": {
     "languageId": "r"
    }
   },
   "outputs": [
    {
     "data": {
      "image/png": "[encoded data removed]",
      "text/plain": [
       "Plot with title \"Histogramme de l'IR\""
      ]
     },
     "metadata": {},
     "output_type": "display_data"
    }
   ],
   "source": [
    "hist(data$IR, \n",
    "    main = \"Histogramme de l'IR\",\n",
    "    xlab = \"Indice de rugosité\",\n",
    "    ylab = \"Fréquence\",\n",
    "    col = \"lightblue\")\n"
   ]
  },
  {
   "cell_type": "markdown",
   "id": "9c89a1fc",
   "metadata": {},
   "source": [
    "### DIAGRAMME DE TUKEY"
   ]
  },
  {
   "cell_type": "code",
   "execution_count": 98,
   "id": "d45c805e",
   "metadata": {
    "vscode": {
     "languageId": "r"
    }
   },
   "outputs": [
    {
     "data": {
      "image/png": "[encoded data removed]",
      "text/plain": [
       "Plot with title \"Diagramme de Tukey de l'IR\""
      ]
     },
     "metadata": {},
     "output_type": "display_data"
    }
   ],
   "source": [
    "boxplot(data$IR, \n",
    "       main = \"Diagramme de Tukey de l'IR\",\n",
    "       xlab = \"Indice de rugosité\",\n",
    "       col = \"lightgreen\",\n",
    "       horizontal=TRUE,\n",
    "       notch=TRUE,\n",
    "       las=1)"
   ]
  },
  {
   "cell_type": "markdown",
   "id": "c69fd3c2",
   "metadata": {},
   "source": [
    "### DROITE DE HENRY"
   ]
  },
  {
   "cell_type": "code",
   "execution_count": 99,
   "id": "10d88e81",
   "metadata": {
    "vscode": {
     "languageId": "r"
    }
   },
   "outputs": [
    {
     "data": {
      "image/png": "[encoded data removed]",
      "text/plain": [
       "Plot with title \"Droite de Henry de l'IR\""
      ]
     },
     "metadata": {},
     "output_type": "display_data"
    }
   ],
   "source": [
    "qqnorm(data$IR, main = \"Droite de Henry de l'IR\")\n",
    "qqline(data$IR, col = \"red\", lwd = 2)"
   ]
  },
  {
   "cell_type": "markdown",
   "id": "a2f0007b",
   "metadata": {},
   "source": [
    "### TEST DE NORMALITE"
   ]
  },
  {
   "cell_type": "code",
   "execution_count": 100,
   "id": "e161b04f",
   "metadata": {
    "vscode": {
     "languageId": "r"
    }
   },
   "outputs": [
    {
     "data": {
      "text/plain": [
       "\n",
       "\tShapiro-Wilk normality test\n",
       "\n",
       "data:  data$IR\n",
       "W = 0.89815, p-value = 6.278e-13\n"
      ]
     },
     "metadata": {},
     "output_type": "display_data"
    }
   ],
   "source": [
    "shapiro_test <- shapiro.test(data$IR)\n",
    "shapiro_test"
   ]
  },
  {
   "cell_type": "markdown",
   "id": "b2ab2764",
   "metadata": {},
   "source": [
    "### STATISTIQUES DESCRIPTIVES"
   ]
  },
  {
   "cell_type": "code",
   "execution_count": 101,
   "id": "dd876a7b",
   "metadata": {
    "vscode": {
     "languageId": "r"
    }
   },
   "outputs": [
    {
     "data": {
      "text/html": [
       "<table>\n",
       "<thead><tr><th scope=col>Statistique</th><th scope=col>Valeur</th></tr></thead>\n",
       "<tbody>\n",
       "\t<tr><td>Moyenne    </td><td>11.16      </td></tr>\n",
       "\t<tr><td>Q1         </td><td> 7.90      </td></tr>\n",
       "\t<tr><td>Médiane    </td><td>10.40      </td></tr>\n",
       "\t<tr><td>Q3         </td><td>13.50      </td></tr>\n",
       "\t<tr><td>Écart type </td><td> 5.42      </td></tr>\n",
       "\t<tr><td>IC inf. 95%</td><td>10.52      </td></tr>\n",
       "\t<tr><td>IC sup. 95%</td><td>11.79      </td></tr>\n",
       "</tbody>\n",
       "</table>\n"
      ],
      "text/latex": [
       "\\begin{tabular}{r|ll}\n",
       " Statistique & Valeur\\\\\n",
       "\\hline\n",
       "\t Moyenne     & 11.16      \\\\\n",
       "\t Q1          &  7.90      \\\\\n",
       "\t Médiane     & 10.40      \\\\\n",
       "\t Q3          & 13.50      \\\\\n",
       "\t Écart type  &  5.42      \\\\\n",
       "\t IC inf. 95\\% & 10.52        \\\\\n",
       "\t IC sup. 95\\% & 11.79        \\\\\n",
       "\\end{tabular}\n"
      ],
      "text/markdown": [
       "\n",
       "| Statistique | Valeur |\n",
       "|---|---|\n",
       "| Moyenne     | 11.16       |\n",
       "| Q1          |  7.90       |\n",
       "| Médiane     | 10.40       |\n",
       "| Q3          | 13.50       |\n",
       "| Écart type  |  5.42       |\n",
       "| IC inf. 95% | 10.52       |\n",
       "| IC sup. 95% | 11.79       |\n",
       "\n"
      ],
      "text/plain": [
       "  Statistique Valeur\n",
       "1 Moyenne     11.16 \n",
       "2 Q1           7.90 \n",
       "3 Médiane     10.40 \n",
       "4 Q3          13.50 \n",
       "5 Écart type   5.42 \n",
       "6 IC inf. 95% 10.52 \n",
       "7 IC sup. 95% 11.79 "
      ]
     },
     "metadata": {},
     "output_type": "display_data"
    }
   ],
   "source": [
    "# Moyenne\n",
    "mean_IR <- mean(data$IR)\n",
    "\n",
    "# Ecart type\n",
    "sd_IR <- sd(data$IR)\n",
    "\n",
    "# Quartiles\n",
    "quartiles <- quantile(data$IR, probs = c(0.25, 0.5, 0.75))\n",
    "\n",
    "# Intervalle de confiance\n",
    "n <- length(data$IR)\n",
    "# Calcul avec la Loi de Student  (ecart type inconnu)\n",
    "error <- qt(0.975, df = n-1) * sd_IR / sqrt(n) # 0.975 pour alpha = 0.05\n",
    "lower <- mean_IR - error\n",
    "upper <- mean_IR + error\n",
    "\n",
    "# Création de la table\n",
    "stats_table <- data.frame(\n",
    "  Statistique = c(\"Moyenne\", \"Q1\", \"Médiane\", \"Q3\", \n",
    "              \"Écart type\", \"IC inf. 95%\", \"IC sup. 95%\"),\n",
    "  Valeur = round(c(mean_IR, quartiles[1], quartiles[2], quartiles[3], \n",
    "          sd_IR, lower, upper), 2)\n",
    ")\n",
    "\n",
    "stats_table \n"
   ]
  },
  {
   "cell_type": "markdown",
   "id": "1691adf6-c0ef-4ba0-89c7-d378bd508760",
   "metadata": {},
   "source": [
    "**b) (7 points)** Afin de vérifier si le type de matériau a un effet sur la qualité du perçage, on peut considérer la variable *Indice de rugosité* en deux groupes selon le *type de matériau*, et effectuer une comparaison des deux groupes en termes de moyenne, symétrie et variabilité. Pour ce faire, effectuez les analyses suivantes et donnez une brève interprétation : \n",
    "- deux histogrammes juxtaposés, et deux diagrammes de Tukey (ou «Box Plot») juxtaposés;\n",
    "- un tableau des statistiques descriptives par groupe : *moyenne*, *quartiles*, *écart type*, *intervalle de confiance pour la moyenne*;\n",
    "- un test d’hypothèse sur l’égalité des variances pour les deux groupes;\n",
    "- un test d’hypothèse sur l’égalité des moyennes pour les deux groupes."
   ]
  },
  {
   "cell_type": "markdown",
   "id": "dc44da50",
   "metadata": {},
   "source": [
    "### HISTOGRAMMES JUSTAPOXES"
   ]
  },
  {
   "cell_type": "code",
   "execution_count": 102,
   "id": "e25b45ad-1738-4c49-886b-4909693760d6",
   "metadata": {
    "vscode": {
     "languageId": "r"
    }
   },
   "outputs": [
    {
     "data": {
      "image/png": "[encoded data removed]",
      "text/plain": [
       "Plot with title \"Histogramme de l'IR pour le matériau 1\""
      ]
     },
     "metadata": {},
     "output_type": "display_data"
    }
   ],
   "source": [
    "layout(matrix(1:2,1,2))\n",
    "\n",
    "# Histogramme pour le premier type de matériau\n",
    "hist(data$IR[data$M==0],\n",
    "    main = \"Histogramme de l'IR pour le matériau 0\",\n",
    "    xlab = \"Indice de rugosité\",\n",
    "    ylab = \"Fréquence\",\n",
    "    col = \"lightblue\")\n",
    "\n",
    "# Histogramme pour le premier type de matériau\n",
    "hist(data$IR[data$M==1],\n",
    "    main = \"Histogramme de l'IR pour le matériau 1\",\n",
    "    xlab = \"Indice de rugosité\",\n",
    "    ylab = \"Fréquence\",\n",
    "    col = \"lightgreen\")\n",
    "\n"
   ]
  },
  {
   "cell_type": "markdown",
   "id": "5e47bb06",
   "metadata": {},
   "source": [
    "### DIAGRAMME DE TUCKEY JUSTAPOXES"
   ]
  },
  {
   "cell_type": "code",
   "execution_count": 103,
   "id": "df5a142a",
   "metadata": {
    "vscode": {
     "languageId": "r"
    }
   },
   "outputs": [
    {
     "data": {
      "image/png": "[encoded data removed]",
      "text/plain": [
       "Plot with title \"Diagrammes de Tukey de l'IR par type de matériau\""
      ]
     },
     "metadata": {},
     "output_type": "display_data"
    }
   ],
   "source": [
    "boxplot(IR ~ M, data = data, \n",
    "        main = \"Diagrammes de Tukey de l'IR par type de matériau\",\n",
    "        ylab = \"Type de matériau\", \n",
    "        xlab = \"Indice de rugosité\",\n",
    "        horizontal=TRUE,\n",
    "        notch=TRUE,\n",
    "        col = c(\"lightblue\", \"lightgreen\"),\n",
    "        las=1)"
   ]
  },
  {
   "cell_type": "markdown",
   "id": "12c2ae76",
   "metadata": {},
   "source": [
    "### STATISTIQUES DESCRIPTIVES PAR GROUPE"
   ]
  },
  {
   "cell_type": "code",
   "execution_count": 104,
   "id": "a975017e",
   "metadata": {
    "vscode": {
     "languageId": "r"
    }
   },
   "outputs": [
    {
     "data": {
      "text/html": [
       "<table>\n",
       "<thead><tr><th scope=col>Statistique</th><th scope=col>M0</th><th scope=col>M1</th></tr></thead>\n",
       "<tbody>\n",
       "\t<tr><td>Moyenne    </td><td>11.79      </td><td>10.56      </td></tr>\n",
       "\t<tr><td>Q1         </td><td> 8.00      </td><td> 7.90      </td></tr>\n",
       "\t<tr><td>Médiane    </td><td>10.95      </td><td>10.00      </td></tr>\n",
       "\t<tr><td>Q3         </td><td>14.70      </td><td>12.35      </td></tr>\n",
       "\t<tr><td>Écart type </td><td> 5.95      </td><td> 4.81      </td></tr>\n",
       "\t<tr><td>IC inf. 95%</td><td>10.78      </td><td> 9.78      </td></tr>\n",
       "\t<tr><td>IC sup. 95%</td><td>12.79      </td><td>11.35      </td></tr>\n",
       "</tbody>\n",
       "</table>\n"
      ],
      "text/latex": [
       "\\begin{tabular}{r|lll}\n",
       " Statistique & M0 & M1\\\\\n",
       "\\hline\n",
       "\t Moyenne     & 11.79       & 10.56      \\\\\n",
       "\t Q1          &  8.00       &  7.90      \\\\\n",
       "\t Médiane     & 10.95       & 10.00      \\\\\n",
       "\t Q3          & 14.70       & 12.35      \\\\\n",
       "\t Écart type  &  5.95       &  4.81      \\\\\n",
       "\t IC inf. 95\\% & 10.78         &  9.78        \\\\\n",
       "\t IC sup. 95\\% & 12.79         & 11.35        \\\\\n",
       "\\end{tabular}\n"
      ],
      "text/markdown": [
       "\n",
       "| Statistique | M0 | M1 |\n",
       "|---|---|---|\n",
       "| Moyenne     | 11.79       | 10.56       |\n",
       "| Q1          |  8.00       |  7.90       |\n",
       "| Médiane     | 10.95       | 10.00       |\n",
       "| Q3          | 14.70       | 12.35       |\n",
       "| Écart type  |  5.95       |  4.81       |\n",
       "| IC inf. 95% | 10.78       |  9.78       |\n",
       "| IC sup. 95% | 12.79       | 11.35       |\n",
       "\n"
      ],
      "text/plain": [
       "  Statistique M0    M1   \n",
       "1 Moyenne     11.79 10.56\n",
       "2 Q1           8.00  7.90\n",
       "3 Médiane     10.95 10.00\n",
       "4 Q3          14.70 12.35\n",
       "5 Écart type   5.95  4.81\n",
       "6 IC inf. 95% 10.78  9.78\n",
       "7 IC sup. 95% 12.79 11.35"
      ]
     },
     "metadata": {},
     "output_type": "display_data"
    }
   ],
   "source": [
    "stats_by_group <- function(x) {\n",
    "  # Moyenne\n",
    "  mean_x <- mean(x)\n",
    "\n",
    "  # Ecart type\n",
    "  sd_x <- sd(x)\n",
    "\n",
    "  # Quartiles\n",
    "  quarts <- quantile(x, probs = c(0.25, 0.5, 0.75))\n",
    "\n",
    "  # Intervalle de confiance\n",
    "  n <- length(x)\n",
    "  error <- qt(0.975, df = n-1) * sd_x / sqrt(n)\n",
    "  lower <- mean_x - error\n",
    "  upper <- mean_x + error\n",
    "  \n",
    "  return(c(mean_x, quarts[1], quarts[2], quarts[3], sd_x, lower, upper))\n",
    "}\n",
    "\n",
    "# Application de la fonction à chaque groupe\n",
    "M0_stats <- stats_by_group(data$IR[data$M == 0])\n",
    "M1_stats <- stats_by_group(data$IR[data$M == 1])\n",
    "\n",
    "# Création de la table\n",
    "stats_table <- data.frame(\n",
    "  Statistique = c(\"Moyenne\", \"Q1\", \"Médiane\", \"Q3\", \"Écart type\", \n",
    "                \"IC inf. 95%\", \"IC sup. 95%\"),\n",
    "  M0 = round(M0_stats, 2),\n",
    "  M1 = round(M1_stats, 2)\n",
    ")\n",
    "stats_table"
   ]
  },
  {
   "cell_type": "markdown",
   "id": "a4c92a0b",
   "metadata": {},
   "source": [
    "### TEST D'HYPOTHESE SUR LES VARIANCES"
   ]
  },
  {
   "cell_type": "code",
   "execution_count": 105,
   "id": "9bf917b1",
   "metadata": {
    "vscode": {
     "languageId": "r"
    }
   },
   "outputs": [
    {
     "data": {
      "text/plain": [
       "\n",
       "\tF test to compare two variances\n",
       "\n",
       "data:  IR by M\n",
       "F = 1.5313, num df = 137, denom df = 146, p-value = 0.01151\n",
       "alternative hypothesis: true ratio of variances is not equal to 1\n",
       "95 percent confidence interval:\n",
       " 1.100748 2.134131\n",
       "sample estimates:\n",
       "ratio of variances \n",
       "          1.531339 \n"
      ]
     },
     "metadata": {},
     "output_type": "display_data"
    }
   ],
   "source": [
    "# Si p<0.05, les variances sont différentes\n",
    "var_test <- var.test(IR ~ M, data = data)\n",
    "var_test"
   ]
  },
  {
   "cell_type": "markdown",
   "id": "621b1fc4",
   "metadata": {},
   "source": [
    "### TEST D'HYPOTHESE SUR LES MOYENNES"
   ]
  },
  {
   "cell_type": "code",
   "execution_count": 106,
   "id": "6d7942c2",
   "metadata": {
    "vscode": {
     "languageId": "r"
    }
   },
   "outputs": [
    {
     "data": {
      "text/plain": [
       "\n",
       "\tWelch Two Sample t-test\n",
       "\n",
       "data:  IR by M\n",
       "t = 1.9, df = 263.53, p-value = 0.05853\n",
       "alternative hypothesis: true difference in means is not equal to 0\n",
       "95 percent confidence interval:\n",
       " -0.04439994  2.48897255\n",
       "sample estimates:\n",
       "mean in group 0 mean in group 1 \n",
       "       11.78623        10.56395 \n"
      ]
     },
     "metadata": {},
     "output_type": "display_data"
    }
   ],
   "source": [
    "# Si p<0.05, les moyennes sont différentes\n",
    "t_test <- t.test(IR ~ M, data = data)\n",
    "t_test"
   ]
  },
  {
   "cell_type": "markdown",
   "id": "40fb0712-965f-4df3-9c5a-3abe0822eaee",
   "metadata": {},
   "source": [
    "# *Phase 2* : Recherche d’un modèle et optimisation\n",
    "On s’intéresse dans cette phase à la détermination d’un modèle permettant d’expliquer la qualité du perçage en fonction des divers facteurs considérés. Pour ce faire, on envisage des modèles de régression en considérant l’indice IR comme variable dépendante *Y*."
   ]
  },
  {
   "cell_type": "markdown",
   "id": "d94387b7-e548-4be5-98c0-fa453392c2de",
   "metadata": {},
   "source": [
    "**c) (7 points)** On considère d’abord les deux modèles suivants où X est la variable la plus fortement corrélée avec Y parmi les quatre variables susceptibles d’affecter la qualité du perçage : \n",
    "\n",
    "<div style=\"margin-left: 400px;\">Modèle 1 : $Y = \\lambda_0 + \\lambda_1 X + \\varepsilon$;</div>\n",
    "<div style=\"margin-left: 400px;\">Modèle 2 : $Y = \\beta_0 + \\beta_1 X + \\beta_2 X^2 + \\varepsilon'$</div><br>\n",
    "où $\\lambda_0, \\lambda_1, \\beta_0, \\beta_1, \\beta_2$  sont des paramètres; $\\varepsilon$ et $\\varepsilon'$ des erreurs aléatoires.<br><br>\n",
    "\n",
    "*1-c) **(5 points)*** Pour chacun des deux modèles ci-dessus, effectuez l’ajustement (i.e. obtenir le tableau des coeff icients de régression, le tableau d’analyse de la variance), ainsi qu’une analyse des résidus (normalité, homoscédasticité, points atypiques, etc.)<br>\n",
    "\n",
    "*2-c) **(2points)*** Effectuez une comparaison des deux modèles et dites si un des deux modèles est préférable à l’autre. Justifiez votre choix en précisant les critères utilisés.\n",
    "\n",
    "\n"
   ]
  },
  {
   "cell_type": "code",
   "execution_count": null,
   "id": "a9fc9658-8ce8-4b94-b7f2-8a8aa84f2de8",
   "metadata": {
    "vscode": {
     "languageId": "r"
    }
   },
   "outputs": [],
   "source": []
  },
  {
   "cell_type": "markdown",
   "id": "032d5014-ada4-48c8-8e27-7058a6f8ef54",
   "metadata": {},
   "source": [
    "**d) (5 points)** On cherche à vérifier si la variation linéaire de l’*Indice de rugosité* (IR) en fonction de la variable X (définie en **c)**) est similaire pour les deux types de matériau. Pour cela : <br><br>\n",
    "*1.d) **(2 points)*** Ajustez un **seul** modèle de régression permettant d’obtenir les équations de deux droites : une pour le type de matériau codé 0 et l’autre pour le type de matériau codé 1.<br>\n",
    "*2.d) **(3 points)*** Effectuez ensuite un **seul** test afin de vérifier si les deux droites sont similaires (i.e., ont la même pente et même la même ordonnée à l’origine) et concluez.<br>\n",
    "\n",
    "**Suggestion** : Inclure la variable matériau (M) de façon judicieuse dans le modèle à ajuster au 1.d)."
   ]
  },
  {
   "cell_type": "code",
   "execution_count": null,
   "id": "173ca39d-7f40-4f7b-9888-3232be0d7e17",
   "metadata": {
    "vscode": {
     "languageId": "r"
    }
   },
   "outputs": [],
   "source": []
  },
  {
   "cell_type": "markdown",
   "id": "b86c8cc0-3e21-41cc-9a97-849cff227b90",
   "metadata": {},
   "source": [
    "**e) (10 points)** On considère à présent un troisième modèle linéaire multiple d’équation <br>\n",
    "<div style=\"margin-left: 250px;\">Modèle 3 : $IR = \\beta_0 + \\beta_1 V + \\beta_2 A + \\beta_3 T + \\beta_4 V^2 + \\beta_5 A^2 + \\beta_6 T^2 + \\beta_7 (V \\times A) + \\varepsilon$\n",
    ",</div> \n",
    "\n",
    "où $\\beta_i,\\quad i = 0,1,\\dots,7$ sont des paramètres et $\\varepsilon$, une erreur aléatoire que l’on suppose de loi $\\mathcal{N}(0, \\sigma^2)$\n",
    "). <br><br>\n",
    "*1.e) **(4 points)*** Effectuez l’ajustement du modèle 3 (i.e. obtenez le tableau des coefficients de régression, le tableau d’analyse de la variance) et effectuez une analyse complète des résidus (normalité, homoscédasticité, points atypiques, etc.)<br> \n",
    "*2.e) **(2 points)*** Calculez un intervalle de confiance pour chacun des paramètres $\\beta_j,\\quad j = 0,1,\\dots,7$ du modèle 3 et interprétez les résultats obtenus.<br><br>\n",
    "Le modèle 3 (modèle complet) est constitué du modèle 1 (modèle réduit) auquel des variables ont été ajoutées. <br>\n",
    "*3.e) **(4 points)*** Effectuez un **seul** test afin de vérifier si l’ajout des variables au modèle 1 pour obtenir le modèle 3 est utile. Préciser les hypothèses $H_0$ et $H_1$ de ce test."
   ]
  },
  {
   "cell_type": "code",
   "execution_count": null,
   "id": "56999ddf-c683-4dc9-847f-5399ddc85072",
   "metadata": {
    "vscode": {
     "languageId": "r"
    }
   },
   "outputs": [],
   "source": []
  },
  {
   "cell_type": "markdown",
   "id": "73ef1cf3-f0a5-404f-a2e5-c720d0d2e078",
   "metadata": {},
   "source": [
    "**f) (3 points)** Simplifiez, s’il y a lieu, le modèle 3, en ne conservant que les variables significatives. Analysez le nouveau modèle ainsi obtenu et commentez sur sa validité."
   ]
  },
  {
   "cell_type": "code",
   "execution_count": null,
   "id": "c09da4e4-912d-4a60-9f93-4e39efd13992",
   "metadata": {
    "vscode": {
     "languageId": "r"
    }
   },
   "outputs": [],
   "source": []
  },
  {
   "cell_type": "markdown",
   "id": "30d04606-a78a-4f99-b73a-f6e858ac7faa",
   "metadata": {},
   "source": [
    "**g) (2 points)** Sur la base du modèle que vous avez obtenu en f), calculez un intervalle de prévision pour la qualité (*indice IR*) d’un perçage effectué avec une vitesse de rotation $V = 15$, une avance $A = 20$, et une température de $T = 53$. Commentez brièvement votre résultat."
   ]
  },
  {
   "cell_type": "code",
   "execution_count": null,
   "id": "580de732-68c6-4003-8d87-33a617bc203d",
   "metadata": {
    "vscode": {
     "languageId": "r"
    }
   },
   "outputs": [],
   "source": []
  }
 ],
 "metadata": {
  "kernelspec": {
   "display_name": "R",
   "language": "R",
   "name": "ir"
  },
  "language_info": {
   "codemirror_mode": "r",
   "file_extension": ".r",
   "mimetype": "text/x-r-source",
   "name": "R",
   "pygments_lexer": "r",
   "version": "3.6.1"
  }
 },
 "nbformat": 4,
 "nbformat_minor": 5
}
